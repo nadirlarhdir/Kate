{
 "cells": [
  {
   "cell_type": "markdown",
   "metadata": {},
   "source": [
    "# How to use this notebook ?\n",
    "* In the last cell, enter the xml files of data you wish to use in the game_files list.\n",
    "* Select an agregation function (e.g. agregate_feature_vectors) for the line \"vect = agregation_function(game_files)\"\n",
    "* Export the now .csv data with the line \"export_feature_vectors(vect, \"name_of_the_file.csv\")\""
   ]
  },
  {
   "cell_type": "markdown",
   "metadata": {},
   "source": [
    "# First steps"
   ]
  },
  {
   "cell_type": "markdown",
   "metadata": {},
   "source": [
    "## Imports & Imports of data"
   ]
  },
  {
   "cell_type": "code",
   "execution_count": 21,
   "metadata": {},
   "outputs": [],
   "source": [
    "import xml.etree.ElementTree as et\n",
    "import numpy as np"
   ]
  },
  {
   "cell_type": "code",
   "execution_count": 22,
   "metadata": {},
   "outputs": [],
   "source": [
    "game_file = 'julien_main_droite_1.xml'"
   ]
  },
  {
   "cell_type": "code",
   "execution_count": 23,
   "metadata": {},
   "outputs": [],
   "source": [
    "def norm(vect):\n",
    "    sum = 0\n",
    "    \n",
    "    for el in vect:\n",
    "        sum += el**2\n",
    "    \n",
    "    return np.sqrt(sum)"
   ]
  },
  {
   "cell_type": "markdown",
   "metadata": {},
   "source": [
    "## Useful functions for extracting data from parsed xml file"
   ]
  },
  {
   "cell_type": "markdown",
   "metadata": {},
   "source": [
    "* The function `read_time` returns the time in second in float format from the parsed timestamp"
   ]
  },
  {
   "cell_type": "code",
   "execution_count": 24,
   "metadata": {},
   "outputs": [],
   "source": [
    "def read_time(timestamp):\n",
    "    index1 = timestamp.find('T')\n",
    "    index2 = timestamp.find('+')\n",
    "    return float(timestamp[index1+4:index1+6]) * 60 + float(timestamp[index1+7:index2])"
   ]
  },
  {
   "cell_type": "markdown",
   "metadata": {},
   "source": [
    "* The function `parse_root` returns an array containing all the parsed data from the file named 'game_file'"
   ]
  },
  {
   "cell_type": "code",
   "execution_count": 25,
   "metadata": {},
   "outputs": [],
   "source": [
    "def parse_root(game_file):\n",
    "    root = et.parse(game_file).getroot()\n",
    "    return root"
   ]
  },
  {
   "cell_type": "markdown",
   "metadata": {},
   "source": [
    "* The function `hand_positions` extracts the positions of the right hand along with the time corresponding to those positions. It returns an array of shape [(x, y, t)] (length number_of_position, with 3 elements arrays representing (x, y, t))."
   ]
  },
  {
   "cell_type": "code",
   "execution_count": 26,
   "metadata": {},
   "outputs": [],
   "source": [
    "def hand_positions(game_file):\n",
    "    hand_positions = parse_root(game_file)[1]\n",
    "    \n",
    "    array = []\n",
    "    \n",
    "    for vector2 in hand_positions:\n",
    "        #print(vector2[0][0].text)\n",
    "        x = float(vector2[0][0].text)\n",
    "        y = float(vector2[0][1].text)\n",
    "        t = read_time(vector2[1].text)\n",
    "        array.append((x, y, t))\n",
    "    \n",
    "    return array"
   ]
  },
  {
   "cell_type": "markdown",
   "metadata": {},
   "source": [
    "* The function `bubble_pop` extracts the time of each game event corresponding to the pop of a bubble by the player. It returns an array of shape [t] (length number_of_bubble_poped)."
   ]
  },
  {
   "cell_type": "code",
   "execution_count": 28,
   "metadata": {},
   "outputs": [],
   "source": [
    "def bubble_pop(game_file):\n",
    "    bubble_logs = parse_root(game_file)[0]\n",
    "    \n",
    "    return_array = []\n",
    "    \n",
    "    for event in bubble_logs :\n",
    "        if event[0].text == \"gather\" :\n",
    "            t = read_time(event[2].text)\n",
    "            return_array.append(t)\n",
    "    \n",
    "    return return_array"
   ]
  },
  {
   "cell_type": "markdown",
   "metadata": {},
   "source": [
    "* This last function `bubble_pop_clean` returns the time of bubble gathering, minus the last wave if it misses some of the data"
   ]
  },
  {
   "cell_type": "code",
   "execution_count": 29,
   "metadata": {},
   "outputs": [],
   "source": [
    "def bubble_pop_clean(game_file):\n",
    "    bubble_pop_time = bubble_pop(game_file)\n",
    "    \n",
    "    i = len(bubble_pop_time)%5\n",
    "    \n",
    "    if i > 0:\n",
    "        return bubble_pop_time[:-(5-i)]\n",
    "    else:\n",
    "        return bubble_pop_time"
   ]
  },
  {
   "cell_type": "markdown",
   "metadata": {},
   "source": [
    "# Extraction of sub-trajectories & features\n",
    "The function `sub_trajectories` returns an array of shape [[*[(x,y,t),(x,y,t),...]*, for each bubble in wave], for each wave]. To access all positions and time of the trajectory between the *i* and *i+1* bubble of the *n* wave : *sub_trajectories[n-1][i]*."
   ]
  },
  {
   "cell_type": "code",
   "execution_count": 30,
   "metadata": {},
   "outputs": [],
   "source": [
    "def sub_trajectories(game_file):\n",
    "    hand_position = hand_positions(game_file)\n",
    "    bubble_pop_time = bubble_pop_clean(game_file)\n",
    "    \n",
    "    th = hand_position[0][2]\n",
    "    \n",
    "    sub_traj=[]\n",
    "    \n",
    "    nb_waves = len(bubble_pop_time)//5\n",
    "    i=0 #loop count for waves\n",
    "    k=0 #loop count for hand positions\n",
    "    while i<nb_waves :\n",
    "        sub_traj.append([])\n",
    "        j=0 #loop count for bubbles\n",
    "        while j<5:\n",
    "            sub_traj[i].append([])\n",
    "            t = bubble_pop_time[j+5*i] #the time the bubble was gathered\n",
    "            while th < t:\n",
    "                sub_traj[i][j].append(hand_position[k]) #appends the position of the hand and the corresponding time\n",
    "                k+=1\n",
    "                th = hand_position[k][2]\n",
    "            j+=1\n",
    "        i+=1\n",
    "    \n",
    "    return np.array(sub_traj)"
   ]
  },
  {
   "cell_type": "markdown",
   "metadata": {},
   "source": [
    "We define some functions to extract interesting features from trajectories. We first look for Static features : \n",
    "* `length` returns the length of the trajectory *traj*\n",
    "* `barycenter` returns the barycenter of the trajectory *traj* in shape (x,y)\n",
    "* `location` returns the average distance of each point to the barycenter of the trajectory *traj*\n",
    "* `location_max` returns the maximum distance between a point of the trajectory and the barycenter of this trajectory\n",
    "* `orientation` returns the angle between points the line between *(x1, y1)* and *(x2, y2)* and the horizontal axis (in degrees)\n",
    "* `orientation_feat` returns the preceeding feature for the first two points and the last two points of the trajectory *traj*\n",
    "* `nb_turns` returns the number of turns in the trajectory *traj*, where a turn is detected if the orientation between two consecutive couples of points varies of more than *limit_angle*"
   ]
  },
  {
   "cell_type": "code",
   "execution_count": 31,
   "metadata": {},
   "outputs": [],
   "source": [
    "def length(traj):\n",
    "    l = 0\n",
    "    \n",
    "    for i in range(len(traj)-1):\n",
    "        l += np.sqrt((traj[i+1][0]-traj[i][0])**2 + (traj[i+1][1]-traj[i][1])**2)\n",
    "    \n",
    "    return l\n",
    "\n",
    "def barycenter(traj):\n",
    "    x = 0\n",
    "    y = 0\n",
    "    n = len(traj)\n",
    "    \n",
    "    for i in range(n):\n",
    "        x += traj[i][0]\n",
    "        y += traj[i][1]\n",
    "    \n",
    "    if n>0:\n",
    "        return (x/n, y/n)\n",
    "    else:\n",
    "        return (0,0)\n",
    "\n",
    "def location(traj):\n",
    "    loc_avg = 0\n",
    "    n = len(traj)\n",
    "    p = barycenter(traj)\n",
    "    \n",
    "    for i in range(n):\n",
    "        loc_avg += np.sqrt((traj[i][0] - p[0])**2 + (traj[i][1] - p[1])**2)\n",
    "        \n",
    "    return loc_avg/n\n",
    "\n",
    "def location_max(traj):\n",
    "    n = len(traj)\n",
    "    p = barycenter(traj)\n",
    "    if n>0:\n",
    "        l_max = np.max([np.sqrt((traj[i][0] - p[0])**2 + (traj[i][1] - p[1])**2) for i in range(n)])\n",
    "        return l_max\n",
    "    else:\n",
    "        return 0\n",
    "\n",
    "def orientation(x1, x2 , y1, y2):\n",
    "    if x2 == x1 and y2>=y1:\n",
    "        return 90\n",
    "    elif x2 == x1 and y2<=y1:\n",
    "        return -90\n",
    "    else:\n",
    "        return np.arctan((y2 - y1)/(x2 - x1)) * (180/np.pi) #in degree\n",
    "\n",
    "def orientation_feat(traj):\n",
    "    n = len(traj)\n",
    "    if n>1:\n",
    "        ts = orientation(traj[0][0], traj[1][0], traj[0][1], traj[1][1])\n",
    "        te = orientation(traj[-2][0], traj[-1][0], traj[-2][1], traj[-1][1]) \n",
    "\n",
    "        return (ts, te)\n",
    "    else:\n",
    "        return (0,0)\n",
    "\n",
    "def nb_turns(traj, limit_angle):\n",
    "    nb_turns = 0\n",
    "    n=len(traj)\n",
    "    \n",
    "    for i in range(n-2):\n",
    "        if(np.abs(orientation(traj[i][0], traj[i+1][0], traj[i][1], traj[i+1][1]) - orientation(traj[i+1][0], traj[i+2][0], traj[i+1][1], traj[i+2][1])) > limit_angle):\n",
    "            nb_turns += 1\n",
    "    \n",
    "    return nb_turns"
   ]
  },
  {
   "cell_type": "markdown",
   "metadata": {},
   "source": [
    "We then define dynamic features:\n",
    "* `velocity` returns the list of the point to point velocities over the whole trajectory *traj*\n",
    "* `velocity_avg` returns the average velocity over the trajectory *traj*\n",
    "* `velocity_max` returns the greatest velocity over the trajectory *traj*\n",
    "* `velocity_min` returns the lowest velocity over the trajectory *traj*\n",
    "* `nb_vmin` returns the number of local minimum of velocity\n",
    "* `nb_vmax` returns the number of local maximum of velocity"
   ]
  },
  {
   "cell_type": "code",
   "execution_count": 32,
   "metadata": {},
   "outputs": [],
   "source": [
    "def velocity(traj):\n",
    "    velocity = []\n",
    "    \n",
    "    for i in range(len(traj) - 1):\n",
    "        v = norm(np.array(traj)[i+1][:2] - np.array(traj)[i][:2]) / (np.array(traj)[i+1][2] - np.array(traj)[i][2])\n",
    "        velocity.append(v)\n",
    "        \n",
    "    return np.array(velocity)\n",
    "\n",
    "def velocity_avg(traj):\n",
    "    v_avg = 0\n",
    "    n = len(traj)\n",
    "    if n>1:\n",
    "        v_list = velocity(traj)\n",
    "\n",
    "        for i in range(n-1):\n",
    "            v_avg += v_list[i]\n",
    "\n",
    "        return v_avg/(n-1)\n",
    "    else:\n",
    "        return 0\n",
    "\n",
    "def velocity_max(traj):\n",
    "    if len(traj)>1:\n",
    "        return np.max(velocity(traj))\n",
    "    else:\n",
    "        return 0\n",
    "\n",
    "def velocity_min(traj):\n",
    "    if len(traj)>1:\n",
    "        return np.min(velocity(traj))\n",
    "    else:\n",
    "        return 0\n",
    "\n",
    "def nb_vmin(traj):\n",
    "    nb = 0\n",
    "    v_list = velocity(traj)\n",
    "    \n",
    "    for i in range(1,len(v_list)-1):\n",
    "        if v_list[i]<v_list[i+1] and v_list[i]<v_list[i-1]:\n",
    "            nb += 1\n",
    "    \n",
    "    return nb\n",
    "\n",
    "def nb_vmax(traj):\n",
    "    nb = 0\n",
    "    v_list = velocity(traj)\n",
    "    \n",
    "    for i in range(1,len(v_list)-1):\n",
    "        if v_list[i]>v_list[i+1] and v_list[i]>v_list[i-1]:\n",
    "            nb += 1\n",
    "    \n",
    "    return nb"
   ]
  },
  {
   "cell_type": "markdown",
   "metadata": {},
   "source": [
    "The function `feature_vector` extracts features from the trajectory in argument *traj = [(x,y)]*"
   ]
  },
  {
   "cell_type": "code",
   "execution_count": 33,
   "metadata": {},
   "outputs": [],
   "source": [
    "def bucketize_nb_turns(nb_turn):\n",
    "    if nb_turn == 0:\n",
    "        return [1, 0, 0, 0]\n",
    "    elif nb_turn == 1:\n",
    "        return [0, 1, 0, 0]\n",
    "    elif nb_turn < 4: # 2 ou 3\n",
    "        return [0, 0, 1, 0]\n",
    "    else:\n",
    "        return [0, 0, 0, 1] #4 ou plus"
   ]
  },
  {
   "cell_type": "code",
   "execution_count": 34,
   "metadata": {},
   "outputs": [],
   "source": [
    "def bucketize_nb_v(nb_v):\n",
    "    if nb_v < 2:\n",
    "        return [1, 0, 0, 0]\n",
    "    elif nb_v < 4: # 2 ou 3\n",
    "        return [0, 1, 0, 0]\n",
    "    elif nb_v < 6: # 4 ou 5\n",
    "        return [0, 0, 1, 0]\n",
    "    else:\n",
    "        return [0, 0, 0, 1] # 6 ou plus"
   ]
  },
  {
   "cell_type": "code",
   "execution_count": 35,
   "metadata": {},
   "outputs": [],
   "source": [
    "def feature_vector(traj, playerID, game_area, limit_angle=0.25):\n",
    "    diag = np.sqrt(game_area[0]**2 + game_area[1]**2)\n",
    "    \n",
    "    feature_vector = [playerID]\n",
    "    \n",
    "    feature_vector.append(length(traj)/diag)\n",
    "    \n",
    "    bc = barycenter(traj)\n",
    "    feature_vector.append(np.float64(0.5 + bc[0] / game_area[0])) # between 0 and 1\n",
    "    feature_vector.append(np.float64(0.5 + bc[1] / game_area[1]))\n",
    "    \n",
    "    if location_max(traj) == 0:\n",
    "        feature_vector.append(np.float64(0))\n",
    "    else:\n",
    "        feature_vector.append(location(traj)/location_max(traj))\n",
    "    \n",
    "    angles = 0.5 + np.array(orientation_feat(traj)) / 180 # between 0 and 1\n",
    "    feature_vector.append(angles[0]) #first orientation of traj\n",
    "    feature_vector.append(angles[1]) #last orientation of traj\n",
    "    \n",
    "    feature_vector.append(nb_turns(traj, limit_angle))\n",
    "    \n",
    "    feature_vector.append(velocity_avg(traj))\n",
    "    \n",
    "    feature_vector.append(velocity_min(traj))\n",
    "    feature_vector.append(velocity_max(traj))\n",
    "    \n",
    "    feature_vector.append(nb_vmin(traj))\n",
    "    feature_vector.append(nb_vmax(traj))\n",
    "    \n",
    "    return feature_vector"
   ]
  },
  {
   "cell_type": "code",
   "execution_count": 36,
   "metadata": {},
   "outputs": [],
   "source": [
    "def feature_vector_bucket(traj, playerID, game_area, limit_angle=0.25):\n",
    "    diag = np.sqrt(game_area[0]**2 + game_area[1]**2)\n",
    "    \n",
    "    feature_vector = [playerID]\n",
    "    \n",
    "    feature_vector.append(length(traj)/diag)\n",
    "    \n",
    "    bc = barycenter(traj)\n",
    "    feature_vector.append(np.float64(0.5 + bc[0] / game_area[0])) # between 0 and 1\n",
    "    feature_vector.append(np.float64(0.5 + bc[1] / game_area[1]))\n",
    "    \n",
    "    if location_max(traj) == 0:\n",
    "        feature_vector.append(np.float64(0))\n",
    "    else:\n",
    "        feature_vector.append(location(traj)/location_max(traj))\n",
    "    \n",
    "    angles = 0.5 + np.array(orientation_feat(traj)) / 180 # between 0 and 1\n",
    "    feature_vector.append(angles[0]) #first orientation of traj\n",
    "    feature_vector.append(angles[1]) #last orientation of traj\n",
    "    \n",
    "    bucket = bucketize_nb_turns(nb_turns(traj, limit_angle))\n",
    "    for i in bucket:\n",
    "        feature_vector.append(i)\n",
    "    \n",
    "    v_max = velocity_max(traj)\n",
    "    if v_max == 0:\n",
    "        feature_vector.append(0)\n",
    "        feature_vector.append(0)\n",
    "        feature_vector.append(0)\n",
    "    else:\n",
    "        feature_vector.append(velocity_avg(traj) / v_max)\n",
    "\n",
    "        feature_vector.append(velocity_min(traj) / v_max)\n",
    "        feature_vector.append(v_max)\n",
    "    \n",
    "    bucket_min = bucketize_nb_v(nb_vmin(traj))\n",
    "    bucket_max = bucketize_nb_v(nb_vmax(traj))\n",
    "    for i in bucket_min:\n",
    "        feature_vector.append(i)\n",
    "    for j in bucket_max:\n",
    "        feature_vector.append(j)\n",
    "    \n",
    "    return feature_vector"
   ]
  },
  {
   "cell_type": "markdown",
   "metadata": {},
   "source": [
    "The function `feature_vectors_game` allows to create the feature vectors over all the trajectories between the gathering of two bubbles of one game. The returned array is an array of multiple 13x5 arrays (the five feature vectors, containing 13 features each, corresponding to the five trajectories of each wave)."
   ]
  },
  {
   "cell_type": "code",
   "execution_count": 37,
   "metadata": {},
   "outputs": [],
   "source": [
    "def feature_vectors_game(game_file, game_area = [21,10]):\n",
    "    trajectories = np.array(sub_trajectories(game_file))\n",
    "    nb_waves = len(trajectories)\n",
    "    playerID = int(parse_root(game_file)[2][0].text)\n",
    "    vectors = [[]]\n",
    "    for i in range(0,nb_waves):\n",
    "        vectors.append([])\n",
    "        for traj in trajectories[i]:\n",
    "            vectors[i].append(feature_vector(traj, playerID, game_area))\n",
    "    \n",
    "    return np.array(vectors)"
   ]
  },
  {
   "cell_type": "markdown",
   "metadata": {},
   "source": [
    "simple_features_generator gets a list with the paths to be considered and returns (and saves) a list of features and a list of outputs"
   ]
  },
  {
   "cell_type": "code",
   "execution_count": 51,
   "metadata": {},
   "outputs": [],
   "source": [
    "def simple_features_generator(game_list):\n",
    "    features=[]\n",
    "    labels=[]\n",
    "    for file in game_list:\n",
    "        for layer1 in feature_vectors_game(file):\n",
    "            for layer2 in layer1:\n",
    "                features.append(layer2[1:])\n",
    "                labels.append(layer2[0])\n",
    "    np.savetxt('features.csv', features, delimiter=\",\")\n",
    "    np.savetxt('output.csv', labels, delimiter=\",\")\n",
    "    return features, labels"
   ]
  },
  {
   "cell_type": "markdown",
   "metadata": {},
   "source": [
    "The following functions provide different shapes for the feature vector. This way of creating the feature vector could be improved by using tensorflow and its feature vectors, instead of creating it \"by hand\".\n",
    "* \"concat\" means all features are concatenated into one numpy vector for each sample\n",
    "* \"bucket\" means it uses the bucketized version of the feature vector (for nb_turns, nb_vmin, nb_vmax)\n",
    "* \"hands\"  means it uses the hand used to play as label instead of the player's ID"
   ]
  },
  {
   "cell_type": "code",
   "execution_count": 40,
   "metadata": {},
   "outputs": [],
   "source": [
    "def feature_vectors_game_concat(game_file, game_area = [21,10]):\n",
    "    trajectories = np.array(sub_trajectories(game_file))\n",
    "    nb_waves = len(trajectories)\n",
    "    playerID = int(parse_root(game_file)[2][0].text)\n",
    "    vectors = []\n",
    "    \n",
    "    for i in range(nb_waves):\n",
    "        vectors.append([])\n",
    "        for traj in trajectories[i]:\n",
    "            vectors[i] = vectors[i] + list(feature_vector(traj, playerID, game_area)[1:])\n",
    "        vectors[i].append(playerID)\n",
    "    \n",
    "    return np.array(vectors)"
   ]
  },
  {
   "cell_type": "code",
   "execution_count": 41,
   "metadata": {},
   "outputs": [],
   "source": [
    "def feature_vectors_bucket_game_concat(game_file, game_area = [21,10]):\n",
    "    trajectories = np.array(sub_trajectories(game_file))\n",
    "    nb_waves = len(trajectories)\n",
    "    playerID = int(parse_root(game_file)[2][0].text)\n",
    "    vectors = []\n",
    "    \n",
    "    for i in range(nb_waves):\n",
    "        vectors.append([])\n",
    "        for traj in trajectories[i]:\n",
    "            vectors[i] = vectors[i] + list(feature_vector_bucket(traj, playerID, game_area)[1:])\n",
    "        vectors[i].append(playerID)\n",
    "    \n",
    "    return np.array(vectors)"
   ]
  },
  {
   "cell_type": "code",
   "execution_count": 42,
   "metadata": {},
   "outputs": [],
   "source": [
    "def feature_vectors_bucket_game_concat_hands(game_file, game_area = [21,10]):\n",
    "    trajectories = np.array(sub_trajectories(game_file))\n",
    "    nb_waves = len(trajectories)\n",
    "    if parse_root(game_file)[2][2].text == 'false':\n",
    "        useRightHand = 0\n",
    "    else:\n",
    "        useRightHand = 1\n",
    "    vectors = []\n",
    "    \n",
    "    for i in range(nb_waves):\n",
    "        vectors.append([])\n",
    "        for traj in trajectories[i]:\n",
    "            vectors[i] = vectors[i] + list(feature_vector_bucket(traj, useRightHand, game_area)[1:])\n",
    "        vectors[i].append(useRightHand)\n",
    "    \n",
    "    return np.array(vectors)"
   ]
  },
  {
   "cell_type": "markdown",
   "metadata": {},
   "source": [
    "Finally we provide a function to get the agregation of all feature vectors over multiple game files, where *game_files* is the list of the names (String type) of all the game files to be considered."
   ]
  },
  {
   "cell_type": "code",
   "execution_count": 43,
   "metadata": {},
   "outputs": [],
   "source": [
    "def agregate_feature_vectors(game_files):\n",
    "    vectors = []\n",
    "    for file in game_files:\n",
    "        vectors = vectors + list(feature_vectors_game_concat(file))\n",
    "    \n",
    "    return np.array(vectors)"
   ]
  },
  {
   "cell_type": "code",
   "execution_count": 44,
   "metadata": {},
   "outputs": [],
   "source": [
    "def agregate_feature_vectors_bucket(game_files):\n",
    "    vectors = []\n",
    "    for file in game_files:\n",
    "        vectors = vectors + list(feature_vectors_bucket_game_concat(file))\n",
    "    \n",
    "    return np.array(vectors)"
   ]
  },
  {
   "cell_type": "code",
   "execution_count": 45,
   "metadata": {},
   "outputs": [],
   "source": [
    "def agregate_feature_vectors_bucket_hands(game_files):\n",
    "    vectors = []\n",
    "    for file in game_files:\n",
    "        vectors = vectors + list(feature_vectors_bucket_game_concat_hands(file))\n",
    "    \n",
    "    return np.array(vectors)"
   ]
  },
  {
   "cell_type": "markdown",
   "metadata": {},
   "source": [
    "# Export of the final data"
   ]
  },
  {
   "cell_type": "code",
   "execution_count": 46,
   "metadata": {},
   "outputs": [],
   "source": [
    "def export_feature_vectors(vectors, name):\n",
    "    np.savetxt(name, vectors, delimiter=\",\")"
   ]
  }
 ],
 "metadata": {
  "kernelspec": {
   "display_name": "Python 3",
   "language": "python",
   "name": "python3"
  },
  "language_info": {
   "codemirror_mode": {
    "name": "ipython",
    "version": 3
   },
   "file_extension": ".py",
   "mimetype": "text/x-python",
   "name": "python",
   "nbconvert_exporter": "python",
   "pygments_lexer": "ipython3",
   "version": "3.6.5"
  }
 },
 "nbformat": 4,
 "nbformat_minor": 2
}
