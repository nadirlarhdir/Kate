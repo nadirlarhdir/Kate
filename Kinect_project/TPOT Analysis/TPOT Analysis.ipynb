{
 "cells": [
  {
   "cell_type": "markdown",
   "metadata": {},
   "source": [
    "# TPOT"
   ]
  },
  {
   "cell_type": "markdown",
   "metadata": {},
   "source": [
    "We'll now use TPOT to find the best pipeline to our problem"
   ]
  },
  {
   "cell_type": "code",
   "execution_count": 40,
   "metadata": {},
   "outputs": [],
   "source": [
    "%matplotlib notebook\n",
    "\n",
    "import numpy as np\n",
    "from tpot import TPOTClassifier\n",
    "from sklearn.model_selection import train_test_split\n",
    "\n"
   ]
  },
  {
   "cell_type": "markdown",
   "metadata": {},
   "source": [
    "Importing the DATA"
   ]
  },
  {
   "cell_type": "code",
   "execution_count": 44,
   "metadata": {},
   "outputs": [],
   "source": [
    "X = np.genfromtxt('../features/features_wave_julian_sarah.csv', delimiter=',')\n",
    "y = np.genfromtxt('../features/output_wave_julian_sarah.csv', delimiter=',')\n",
    "\n",
    "\n",
    "X_train , X_test, y_train, y_test = train_test_split(X,y,train_size = 0.75 ,test_size = 0.25)\n",
    "\n",
    "#y_train = y[:int(l*training_ratio)]/2\n",
    "#y_test = y[int(l*training_ratio):]/2\n",
    "\n",
    "\n",
    "\n",
    "#y_train = keras.utils.np_utils.to_categorical(y_train.astype(int))\n",
    "#y_test = keras.utils.np_utils.to_categorical(y_test.astype(int))"
   ]
  },
  {
   "cell_type": "code",
   "execution_count": 45,
   "metadata": {},
   "outputs": [],
   "source": [
    "tpot = TPOTClassifier(verbosity = 2, n_jobs = -1)"
   ]
  },
  {
   "cell_type": "code",
   "execution_count": 46,
   "metadata": {},
   "outputs": [
    {
     "data": {
      "application/vnd.jupyter.widget-view+json": {
       "model_id": "",
       "version_major": 2,
       "version_minor": 0
      },
      "text/plain": [
       "HBox(children=(IntProgress(value=0, description='Optimization Progress', max=10100, style=ProgressStyle(descri…"
      ]
     },
     "metadata": {},
     "output_type": "display_data"
    },
    {
     "name": "stdout",
     "output_type": "stream",
     "text": [
      "Generation 1 - Current best internal CV score: 0.86\n",
      "Generation 2 - Current best internal CV score: 0.86\n",
      "Generation 3 - Current best internal CV score: 0.86\n",
      "Generation 4 - Current best internal CV score: 0.86\n",
      "Generation 5 - Current best internal CV score: 0.86\n",
      "Generation 6 - Current best internal CV score: 0.86\n",
      "Generation 7 - Current best internal CV score: 0.8616666666666667\n",
      "Generation 8 - Current best internal CV score: 0.8616666666666667\n",
      "Generation 9 - Current best internal CV score: 0.8616666666666667\n",
      "Generation 10 - Current best internal CV score: 0.8633333333333333\n",
      "Generation 11 - Current best internal CV score: 0.8633333333333333\n",
      "Generation 12 - Current best internal CV score: 0.8633333333333335\n",
      "Generation 13 - Current best internal CV score: 0.8641666666666665\n",
      "Generation 14 - Current best internal CV score: 0.8641666666666665\n",
      "Generation 15 - Current best internal CV score: 0.8641666666666665\n",
      "Generation 16 - Current best internal CV score: 0.8641666666666667\n",
      "Generation 17 - Current best internal CV score: 0.8641666666666667\n",
      "Generation 18 - Current best internal CV score: 0.8658333333333333\n",
      "Generation 19 - Current best internal CV score: 0.8658333333333333\n",
      "Generation 20 - Current best internal CV score: 0.8658333333333333\n",
      "Generation 21 - Current best internal CV score: 0.8658333333333333\n",
      "Generation 22 - Current best internal CV score: 0.8658333333333333\n",
      "Generation 23 - Current best internal CV score: 0.8658333333333333\n",
      "Generation 24 - Current best internal CV score: 0.8666666666666666\n",
      "Generation 25 - Current best internal CV score: 0.8666666666666666\n",
      "Generation 26 - Current best internal CV score: 0.8666666666666666\n",
      "Generation 27 - Current best internal CV score: 0.8666666666666666\n",
      "Generation 28 - Current best internal CV score: 0.8700000000000001\n",
      "Generation 29 - Current best internal CV score: 0.8700000000000001\n",
      "Generation 30 - Current best internal CV score: 0.8700000000000001\n",
      "Generation 31 - Current best internal CV score: 0.8700000000000001\n",
      "Generation 32 - Current best internal CV score: 0.8700000000000001\n",
      "Generation 33 - Current best internal CV score: 0.8700000000000001\n",
      "Generation 34 - Current best internal CV score: 0.8700000000000001\n",
      "Generation 35 - Current best internal CV score: 0.8700000000000001\n",
      "Generation 36 - Current best internal CV score: 0.8700000000000001\n",
      "Generation 37 - Current best internal CV score: 0.8700000000000001\n",
      "Generation 38 - Current best internal CV score: 0.8700000000000001\n",
      "Generation 39 - Current best internal CV score: 0.8700000000000001\n",
      "Generation 40 - Current best internal CV score: 0.8700000000000001\n",
      "Generation 41 - Current best internal CV score: 0.8700000000000001\n",
      "Generation 42 - Current best internal CV score: 0.8700000000000001\n",
      "Generation 43 - Current best internal CV score: 0.8700000000000001\n",
      "Generation 44 - Current best internal CV score: 0.8700000000000001\n",
      "Generation 45 - Current best internal CV score: 0.8700000000000001\n",
      "Generation 46 - Current best internal CV score: 0.8700000000000001\n",
      "Generation 47 - Current best internal CV score: 0.8700000000000001\n",
      "Generation 48 - Current best internal CV score: 0.8700000000000001\n",
      "Generation 49 - Current best internal CV score: 0.8700000000000001\n",
      "Generation 50 - Current best internal CV score: 0.8700000000000001\n",
      "Generation 51 - Current best internal CV score: 0.8700000000000001\n",
      "Generation 52 - Current best internal CV score: 0.8700000000000001\n",
      "Generation 53 - Current best internal CV score: 0.8700000000000001\n",
      "Generation 54 - Current best internal CV score: 0.8700000000000001\n",
      "Generation 55 - Current best internal CV score: 0.8700000000000001\n",
      "Generation 56 - Current best internal CV score: 0.8700000000000001\n",
      "Generation 57 - Current best internal CV score: 0.8700000000000001\n",
      "Generation 58 - Current best internal CV score: 0.8700000000000001\n",
      "Generation 59 - Current best internal CV score: 0.8700000000000001\n",
      "Generation 60 - Current best internal CV score: 0.8700000000000001\n",
      "Generation 61 - Current best internal CV score: 0.8700000000000001\n",
      "Generation 62 - Current best internal CV score: 0.8700000000000001\n",
      "Generation 63 - Current best internal CV score: 0.8700000000000001\n",
      "Generation 64 - Current best internal CV score: 0.8700000000000001\n",
      "Generation 65 - Current best internal CV score: 0.8700000000000001\n",
      "Generation 66 - Current best internal CV score: 0.8700000000000001\n",
      "Generation 67 - Current best internal CV score: 0.8700000000000001\n",
      "Generation 68 - Current best internal CV score: 0.8700000000000001\n",
      "Generation 69 - Current best internal CV score: 0.8700000000000001\n",
      "Generation 70 - Current best internal CV score: 0.8700000000000001\n",
      "Generation 71 - Current best internal CV score: 0.8700000000000001\n",
      "Generation 72 - Current best internal CV score: 0.8700000000000001\n",
      "Generation 73 - Current best internal CV score: 0.8700000000000001\n",
      "Generation 74 - Current best internal CV score: 0.8700000000000001\n",
      "Generation 75 - Current best internal CV score: 0.8700000000000001\n",
      "Generation 76 - Current best internal CV score: 0.8700000000000001\n",
      "Generation 77 - Current best internal CV score: 0.8700000000000001\n",
      "Generation 78 - Current best internal CV score: 0.8700000000000001\n",
      "Generation 79 - Current best internal CV score: 0.8700000000000001\n",
      "Generation 80 - Current best internal CV score: 0.8700000000000001\n",
      "Generation 81 - Current best internal CV score: 0.8700000000000001\n",
      "Generation 82 - Current best internal CV score: 0.8700000000000001\n",
      "Generation 83 - Current best internal CV score: 0.8700000000000001\n",
      "Generation 84 - Current best internal CV score: 0.8700000000000001\n",
      "Generation 85 - Current best internal CV score: 0.8700000000000001\n",
      "Generation 86 - Current best internal CV score: 0.8700000000000001\n",
      "Generation 87 - Current best internal CV score: 0.8700000000000001\n",
      "Generation 88 - Current best internal CV score: 0.8700000000000001\n",
      "Generation 89 - Current best internal CV score: 0.8700000000000001\n",
      "Generation 90 - Current best internal CV score: 0.8700000000000001\n",
      "Generation 91 - Current best internal CV score: 0.8700000000000001\n",
      "Generation 92 - Current best internal CV score: 0.8700000000000001\n",
      "Generation 93 - Current best internal CV score: 0.8700000000000001\n",
      "Generation 94 - Current best internal CV score: 0.8700000000000001\n",
      "Generation 95 - Current best internal CV score: 0.8700000000000001\n",
      "Generation 96 - Current best internal CV score: 0.8700000000000001\n",
      "Generation 97 - Current best internal CV score: 0.8700000000000001\n",
      "Generation 98 - Current best internal CV score: 0.8700000000000001\n",
      "Generation 99 - Current best internal CV score: 0.8700000000000001\n",
      "Generation 100 - Current best internal CV score: 0.8700000000000001\n",
      "\n",
      "Best pipeline: ExtraTreesClassifier(PCA(CombineDFs(SelectPercentile(input_matrix, percentile=48), input_matrix), iterated_power=9, svd_solver=randomized), bootstrap=False, criterion=entropy, max_features=0.9500000000000001, min_samples_leaf=18, min_samples_split=12, n_estimators=100)\n"
     ]
    },
    {
     "data": {
      "text/plain": [
       "TPOTClassifier(config_dict=None, crossover_rate=0.1, cv=5,\n",
       "        disable_update_check=False, early_stop=None, generations=100,\n",
       "        max_eval_time_mins=5, max_time_mins=None, memory=None,\n",
       "        mutation_rate=0.9, n_jobs=-1, offspring_size=None,\n",
       "        periodic_checkpoint_folder=None, population_size=100,\n",
       "        random_state=None, scoring=None, subsample=1.0,\n",
       "        template='RandomTree', use_dask=False, verbosity=2,\n",
       "        warm_start=False)"
      ]
     },
     "execution_count": 46,
     "metadata": {},
     "output_type": "execute_result"
    }
   ],
   "source": [
    "tpot.fit(X_train, y_train)"
   ]
  },
  {
   "cell_type": "markdown",
   "metadata": {},
   "source": [
    "Let's check the score of the algorithm found:"
   ]
  },
  {
   "cell_type": "code",
   "execution_count": 47,
   "metadata": {},
   "outputs": [
    {
     "name": "stderr",
     "output_type": "stream",
     "text": [
      "C:\\ProgramData\\Anaconda3\\lib\\site-packages\\sklearn\\preprocessing\\_function_transformer.py:98: FutureWarning: The default validate=True will be replaced by validate=False in 0.22.\n",
      "  \"validate=False in 0.22.\", FutureWarning)\n"
     ]
    },
    {
     "data": {
      "text/plain": [
       "0.8275"
      ]
     },
     "execution_count": 47,
     "metadata": {},
     "output_type": "execute_result"
    }
   ],
   "source": [
    "tpot.score(X_test, y_test)"
   ]
  },
  {
   "cell_type": "code",
   "execution_count": 48,
   "metadata": {},
   "outputs": [],
   "source": [
    "tpot.export('tpot_pipeline.py')"
   ]
  },
  {
   "cell_type": "markdown",
   "metadata": {},
   "source": [
    "# Average CV score on the training set was:0.8275 using PCA then ExtraTreesClassifier\n"
   ]
  },
  {
   "cell_type": "markdown",
   "metadata": {},
   "source": [
    "We have already done better using Neural Networks. But in average this is better"
   ]
  },
  {
   "cell_type": "markdown",
   "metadata": {},
   "source": [
    "Let's try to classify the three players now and see how accurate can we be"
   ]
  },
  {
   "cell_type": "code",
   "execution_count": 50,
   "metadata": {},
   "outputs": [],
   "source": [
    "X = np.genfromtxt('features_wave_julian_paul_sarah.csv', delimiter=',')\n",
    "y = np.genfromtxt('output_wave_julian_paul_sarah.csv', delimiter=',')\n",
    "\n",
    "\n",
    "X_train , X_test, y_train, y_test = train_test_split(X,y,train_size = 0.75 ,test_size = 0.25)"
   ]
  },
  {
   "cell_type": "code",
   "execution_count": 51,
   "metadata": {},
   "outputs": [],
   "source": [
    "tpot = TPOTClassifier(verbosity = 2, n_jobs = -1)"
   ]
  },
  {
   "cell_type": "code",
   "execution_count": 52,
   "metadata": {},
   "outputs": [
    {
     "data": {
      "application/vnd.jupyter.widget-view+json": {
       "model_id": "",
       "version_major": 2,
       "version_minor": 0
      },
      "text/plain": [
       "HBox(children=(IntProgress(value=0, description='Optimization Progress', max=10100, style=ProgressStyle(descri…"
      ]
     },
     "metadata": {},
     "output_type": "display_data"
    },
    {
     "name": "stdout",
     "output_type": "stream",
     "text": [
      "Generation 1 - Current best internal CV score: 0.6802481892421357\n",
      "Generation 2 - Current best internal CV score: 0.6802481892421357\n",
      "Generation 3 - Current best internal CV score: 0.6802481892421357\n",
      "Generation 4 - Current best internal CV score: 0.6813701761393208\n",
      "Generation 5 - Current best internal CV score: 0.6824703768831621\n",
      "Generation 6 - Current best internal CV score: 0.6824703768831621\n",
      "Generation 7 - Current best internal CV score: 0.683579949131061\n",
      "Generation 8 - Current best internal CV score: 0.6836109943995754\n",
      "Generation 9 - Current best internal CV score: 0.6841711924806647\n",
      "Generation 10 - Current best internal CV score: 0.6841711924806647\n",
      "Generation 11 - Current best internal CV score: 0.6863623780796717\n",
      "Generation 12 - Current best internal CV score: 0.6863623780796717\n",
      "Generation 13 - Current best internal CV score: 0.6863623780796717\n",
      "Generation 14 - Current best internal CV score: 0.6863623780796717\n",
      "Generation 15 - Current best internal CV score: 0.6863732192845496\n",
      "Generation 16 - Current best internal CV score: 0.6863732192845496\n",
      "Generation 17 - Current best internal CV score: 0.6885938507717657\n",
      "Generation 18 - Current best internal CV score: 0.6886202794506431\n",
      "Generation 19 - Current best internal CV score: 0.6886202794506431\n",
      "Generation 20 - Current best internal CV score: 0.6886218528950512\n",
      "Generation 21 - Current best internal CV score: 0.6908362857029233\n",
      "Generation 22 - Current best internal CV score: 0.6908362857029233\n",
      "Generation 23 - Current best internal CV score: 0.6908362857029233\n",
      "Generation 24 - Current best internal CV score: 0.6908362857029233\n",
      "Generation 25 - Current best internal CV score: 0.6908378764379293\n",
      "Generation 26 - Current best internal CV score: 0.6936295817923088\n",
      "Generation 27 - Current best internal CV score: 0.694183589839353\n",
      "Generation 28 - Current best internal CV score: 0.694183589839353\n",
      "Generation 29 - Current best internal CV score: 0.694183589839353\n",
      "Generation 30 - Current best internal CV score: 0.694183589839353\n",
      "Generation 31 - Current best internal CV score: 0.694183589839353\n",
      "Generation 32 - Current best internal CV score: 0.694183589839353\n",
      "Generation 33 - Current best internal CV score: 0.694183589839353\n",
      "Generation 34 - Current best internal CV score: 0.6952962398136766\n",
      "Generation 35 - Current best internal CV score: 0.6952962398136766\n",
      "Generation 36 - Current best internal CV score: 0.6964073422794888\n",
      "Generation 37 - Current best internal CV score: 0.6964073422794888\n",
      "Generation 38 - Current best internal CV score: 0.6964073422794888\n",
      "Generation 39 - Current best internal CV score: 0.6964073422794888\n",
      "Generation 40 - Current best internal CV score: 0.6964073422794888\n",
      "Generation 41 - Current best internal CV score: 0.6964073422794888\n",
      "Generation 42 - Current best internal CV score: 0.6964073422794888\n",
      "Generation 43 - Current best internal CV score: 0.6964073422794888\n",
      "Generation 44 - Current best internal CV score: 0.6969660014973659\n",
      "Generation 45 - Current best internal CV score: 0.6969660014973659\n",
      "Generation 46 - Current best internal CV score: 0.6969660014973659\n",
      "Generation 47 - Current best internal CV score: 0.6969660014973659\n",
      "Generation 48 - Current best internal CV score: 0.6969660014973659\n",
      "Generation 49 - Current best internal CV score: 0.6969660014973659\n",
      "Generation 50 - Current best internal CV score: 0.6969660014973659\n",
      "Generation 51 - Current best internal CV score: 0.6969660014973659\n",
      "Generation 52 - Current best internal CV score: 0.6969660014973659\n",
      "Generation 53 - Current best internal CV score: 0.6969660014973659\n",
      "Generation 54 - Current best internal CV score: 0.6975448215523844\n",
      "Generation 55 - Current best internal CV score: 0.6975448215523844\n",
      "Generation 56 - Current best internal CV score: 0.6975448215523844\n",
      "Generation 57 - Current best internal CV score: 0.6975448215523844\n",
      "Generation 58 - Current best internal CV score: 0.6975448215523844\n",
      "Generation 59 - Current best internal CV score: 0.6975448215523844\n",
      "Generation 60 - Current best internal CV score: 0.6975448215523844\n",
      "Generation 61 - Current best internal CV score: 0.6975448215523844\n",
      "Generation 62 - Current best internal CV score: 0.6975448215523844\n",
      "Generation 63 - Current best internal CV score: 0.6975448215523844\n",
      "Generation 64 - Current best internal CV score: 0.6975448215523844\n",
      "Generation 65 - Current best internal CV score: 0.6975448215523844\n",
      "Generation 66 - Current best internal CV score: 0.6997701215010315\n",
      "Generation 67 - Current best internal CV score: 0.6997701215010315\n",
      "Generation 68 - Current best internal CV score: 0.6997701215010315\n",
      "Generation 69 - Current best internal CV score: 0.6997701215010315\n",
      "Generation 70 - Current best internal CV score: 0.6997701215010315\n",
      "Generation 71 - Current best internal CV score: 0.6997701215010315\n",
      "Generation 72 - Current best internal CV score: 0.6997701215010315\n",
      "Generation 73 - Current best internal CV score: 0.6997701215010315\n",
      "Generation 74 - Current best internal CV score: 0.6997701215010315\n",
      "Generation 75 - Current best internal CV score: 0.6997701215010315\n",
      "Generation 76 - Current best internal CV score: 0.6997701215010315\n",
      "Generation 77 - Current best internal CV score: 0.6997701215010315\n",
      "Generation 78 - Current best internal CV score: 0.6997701215010315\n",
      "Generation 79 - Current best internal CV score: 0.6997701215010315\n",
      "Generation 80 - Current best internal CV score: 0.6997701215010315\n",
      "Generation 81 - Current best internal CV score: 0.6997701215010315\n",
      "Generation 82 - Current best internal CV score: 0.6997701215010315\n",
      "Generation 83 - Current best internal CV score: 0.6997701215010315\n",
      "Generation 84 - Current best internal CV score: 0.6997701215010315\n",
      "Generation 85 - Current best internal CV score: 0.6997701215010315\n",
      "Generation 86 - Current best internal CV score: 0.6997701215010315\n",
      "Generation 87 - Current best internal CV score: 0.6997701215010315\n",
      "Generation 88 - Current best internal CV score: 0.6997701215010315\n",
      "Generation 89 - Current best internal CV score: 0.6997701215010315\n",
      "Generation 90 - Current best internal CV score: 0.6997701215010315\n",
      "Generation 91 - Current best internal CV score: 0.6997701215010315\n",
      "Generation 92 - Current best internal CV score: 0.6997701215010315\n",
      "Generation 93 - Current best internal CV score: 0.6997701215010315\n",
      "Generation 94 - Current best internal CV score: 0.6997701215010315\n",
      "Generation 95 - Current best internal CV score: 0.6997701215010315\n",
      "Generation 96 - Current best internal CV score: 0.6997701215010315\n",
      "Generation 97 - Current best internal CV score: 0.6997701215010315\n",
      "Generation 98 - Current best internal CV score: 0.6997701215010315\n",
      "Generation 99 - Current best internal CV score: 0.6997701215010315\n",
      "Generation 100 - Current best internal CV score: 0.6997701215010315\n",
      "\n",
      "Best pipeline: ExtraTreesClassifier(MultinomialNB(LogisticRegression(SelectFwe(BernoulliNB(input_matrix, alpha=100.0, fit_prior=False), alpha=0.038), C=0.001, dual=True, penalty=l2), alpha=100.0, fit_prior=False), bootstrap=False, criterion=gini, max_features=0.9000000000000001, min_samples_leaf=1, min_samples_split=17, n_estimators=100)\n"
     ]
    },
    {
     "data": {
      "text/plain": [
       "TPOTClassifier(config_dict=None, crossover_rate=0.1, cv=5,\n",
       "        disable_update_check=False, early_stop=None, generations=100,\n",
       "        max_eval_time_mins=5, max_time_mins=None, memory=None,\n",
       "        mutation_rate=0.9, n_jobs=-1, offspring_size=None,\n",
       "        periodic_checkpoint_folder=None, population_size=100,\n",
       "        random_state=None, scoring=None, subsample=1.0,\n",
       "        template='RandomTree', use_dask=False, verbosity=2,\n",
       "        warm_start=False)"
      ]
     },
     "execution_count": 52,
     "metadata": {},
     "output_type": "execute_result"
    }
   ],
   "source": [
    "tpot.fit(X_train, y_train)"
   ]
  },
  {
   "cell_type": "code",
   "execution_count": 53,
   "metadata": {},
   "outputs": [],
   "source": [
    "tpot.export('tpot3_pipeline.py')"
   ]
  },
  {
   "cell_type": "code",
   "execution_count": 54,
   "metadata": {},
   "outputs": [
    {
     "data": {
      "text/plain": [
       "0.666110183639399"
      ]
     },
     "execution_count": 54,
     "metadata": {},
     "output_type": "execute_result"
    }
   ],
   "source": [
    "tpot.score(X_test, y_test)"
   ]
  },
  {
   "cell_type": "markdown",
   "metadata": {},
   "source": [
    "# The precision decays significatively for 3 players (0.66). It is hard to differenciate the girl (Sarah) from the two boys (Julien and Paul). We have constated it as well when trying to cluster the data with K-means. When we selected 3 clusters, the algorithm would only split the data in 2 mainly clusters."
   ]
  },
  {
   "cell_type": "code",
   "execution_count": null,
   "metadata": {},
   "outputs": [],
   "source": []
  }
 ],
 "metadata": {
  "kernelspec": {
   "display_name": "Python 3",
   "language": "python",
   "name": "python3"
  },
  "language_info": {
   "codemirror_mode": {
    "name": "ipython",
    "version": 3
   },
   "file_extension": ".py",
   "mimetype": "text/x-python",
   "name": "python",
   "nbconvert_exporter": "python",
   "pygments_lexer": "ipython3",
   "version": "3.7.1"
  }
 },
 "nbformat": 4,
 "nbformat_minor": 2
}
