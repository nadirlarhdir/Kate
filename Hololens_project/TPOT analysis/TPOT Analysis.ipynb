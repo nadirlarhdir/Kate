{
 "cells": [
  {
   "cell_type": "markdown",
   "metadata": {},
   "source": [
    "## We'll now make an analysis using an automated machine learning tool, called TPOT. It tries to find a pipeline that maximezes the precision of our classification"
   ]
  },
  {
   "cell_type": "markdown",
   "metadata": {},
   "source": [
    "We'll now use TPOT to find the best pipeline to our problem"
   ]
  },
  {
   "cell_type": "code",
   "execution_count": 1,
   "metadata": {},
   "outputs": [
    {
     "name": "stderr",
     "output_type": "stream",
     "text": [
      "C:\\ProgramData\\Anaconda3\\lib\\site-packages\\deap\\tools\\_hypervolume\\pyhv.py:33: ImportWarning: Falling back to the python version of hypervolume module. Expect this to be very slow.\n",
      "  \"module. Expect this to be very slow.\", ImportWarning)\n"
     ]
    }
   ],
   "source": [
    "%matplotlib notebook\n",
    "\n",
    "import numpy as np\n",
    "from tpot import TPOTClassifier\n",
    "from sklearn.model_selection import train_test_split\n",
    "\n"
   ]
  },
  {
   "cell_type": "markdown",
   "metadata": {},
   "source": [
    "Importing the DATA"
   ]
  },
  {
   "cell_type": "code",
   "execution_count": 2,
   "metadata": {},
   "outputs": [],
   "source": [
    "X = np.genfromtxt('./features/features_p8_p9_1.csv', delimiter=',')\n",
    "y = np.genfromtxt('./features/output_p8_p9_1.csv', delimiter=',')\n",
    "\n",
    "\n",
    "X_train , X_test, y_train, y_test = train_test_split(X,y,train_size = 0.65 ,test_size = 0.35)\n"
   ]
  },
  {
   "cell_type": "code",
   "execution_count": 3,
   "metadata": {},
   "outputs": [],
   "source": [
    "tpot = TPOTClassifier(verbosity = 2, n_jobs = -1)"
   ]
  },
  {
   "cell_type": "code",
   "execution_count": 4,
   "metadata": {},
   "outputs": [
    {
     "data": {
      "application/vnd.jupyter.widget-view+json": {
       "model_id": "",
       "version_major": 2,
       "version_minor": 0
      },
      "text/plain": [
       "HBox(children=(IntProgress(value=0, description='Optimization Progress', max=10100, style=ProgressStyle(descri…"
      ]
     },
     "metadata": {},
     "output_type": "display_data"
    },
    {
     "name": "stdout",
     "output_type": "stream",
     "text": [
      "Generation 1 - Current best internal CV score: 0.976114081996435\n",
      "Generation 2 - Current best internal CV score: 0.976114081996435\n",
      "Generation 3 - Current best internal CV score: 0.976114081996435\n",
      "Generation 4 - Current best internal CV score: 0.976114081996435\n",
      "Generation 5 - Current best internal CV score: 0.976114081996435\n",
      "Generation 6 - Current best internal CV score: 0.976114081996435\n",
      "Generation 7 - Current best internal CV score: 0.976114081996435\n",
      "Generation 8 - Current best internal CV score: 0.976114081996435\n",
      "Generation 9 - Current best internal CV score: 0.9882352941176471\n",
      "Generation 10 - Current best internal CV score: 0.9882352941176471\n",
      "Generation 11 - Current best internal CV score: 0.9941176470588236\n",
      "Generation 12 - Current best internal CV score: 0.9941176470588236\n",
      "Generation 13 - Current best internal CV score: 0.9941176470588236\n",
      "Generation 14 - Current best internal CV score: 0.9941176470588236\n",
      "Generation 15 - Current best internal CV score: 0.9941176470588236\n",
      "Generation 16 - Current best internal CV score: 0.9941176470588236\n",
      "Generation 17 - Current best internal CV score: 0.9941176470588236\n",
      "Generation 18 - Current best internal CV score: 0.9941176470588236\n",
      "Generation 19 - Current best internal CV score: 0.9941176470588236\n",
      "Generation 20 - Current best internal CV score: 0.9941176470588236\n",
      "Generation 21 - Current best internal CV score: 0.9941176470588236\n",
      "Generation 22 - Current best internal CV score: 0.9941176470588236\n",
      "Generation 23 - Current best internal CV score: 0.9941176470588236\n",
      "Generation 24 - Current best internal CV score: 0.9941176470588236\n",
      "Generation 25 - Current best internal CV score: 0.9941176470588236\n",
      "Generation 26 - Current best internal CV score: 0.9941176470588236\n",
      "Generation 27 - Current best internal CV score: 0.9941176470588236\n",
      "Generation 28 - Current best internal CV score: 0.9941176470588236\n",
      "Generation 29 - Current best internal CV score: 0.9941176470588236\n",
      "Generation 30 - Current best internal CV score: 0.9941176470588236\n",
      "Generation 31 - Current best internal CV score: 0.9941176470588236\n",
      "Generation 32 - Current best internal CV score: 0.9941176470588236\n",
      "Generation 33 - Current best internal CV score: 0.9941176470588236\n",
      "Generation 34 - Current best internal CV score: 0.9941176470588236\n",
      "Generation 35 - Current best internal CV score: 0.9941176470588236\n",
      "Generation 36 - Current best internal CV score: 0.9941176470588236\n",
      "Generation 37 - Current best internal CV score: 0.9941176470588236\n",
      "Generation 38 - Current best internal CV score: 0.9941176470588236\n",
      "Generation 39 - Current best internal CV score: 0.9941176470588236\n",
      "Generation 40 - Current best internal CV score: 0.9941176470588236\n",
      "Generation 41 - Current best internal CV score: 0.9941176470588236\n",
      "Generation 42 - Current best internal CV score: 0.9941176470588236\n",
      "Generation 43 - Current best internal CV score: 0.9941176470588236\n",
      "Generation 44 - Current best internal CV score: 0.9941176470588236\n",
      "Generation 45 - Current best internal CV score: 0.9941176470588236\n",
      "Generation 46 - Current best internal CV score: 0.9941176470588236\n",
      "Generation 47 - Current best internal CV score: 0.9941176470588236\n",
      "Generation 48 - Current best internal CV score: 0.9941176470588236\n",
      "Generation 49 - Current best internal CV score: 0.9941176470588236\n",
      "Generation 50 - Current best internal CV score: 0.9941176470588236\n",
      "Generation 51 - Current best internal CV score: 0.9941176470588236\n",
      "Generation 52 - Current best internal CV score: 0.9941176470588236\n",
      "Generation 53 - Current best internal CV score: 0.9941176470588236\n",
      "Generation 54 - Current best internal CV score: 0.9941176470588236\n",
      "Generation 55 - Current best internal CV score: 0.9941176470588236\n",
      "Generation 56 - Current best internal CV score: 0.9941176470588236\n",
      "Generation 57 - Current best internal CV score: 0.9941176470588236\n",
      "Generation 58 - Current best internal CV score: 0.9941176470588236\n",
      "Generation 59 - Current best internal CV score: 0.9941176470588236\n",
      "Generation 60 - Current best internal CV score: 0.9941176470588236\n",
      "Generation 61 - Current best internal CV score: 0.9941176470588236\n",
      "Generation 62 - Current best internal CV score: 0.9941176470588236\n",
      "Generation 63 - Current best internal CV score: 0.9941176470588236\n",
      "Generation 64 - Current best internal CV score: 0.9941176470588236\n",
      "Generation 65 - Current best internal CV score: 0.9941176470588236\n",
      "Generation 66 - Current best internal CV score: 0.9941176470588236\n",
      "Generation 67 - Current best internal CV score: 0.9941176470588236\n",
      "Generation 68 - Current best internal CV score: 0.9941176470588236\n",
      "Generation 69 - Current best internal CV score: 0.9941176470588236\n",
      "Generation 70 - Current best internal CV score: 0.9941176470588236\n",
      "Generation 71 - Current best internal CV score: 0.9941176470588236\n",
      "Generation 72 - Current best internal CV score: 0.9941176470588236\n",
      "Generation 73 - Current best internal CV score: 0.9941176470588236\n",
      "Generation 74 - Current best internal CV score: 0.9941176470588236\n",
      "Generation 75 - Current best internal CV score: 0.9941176470588236\n",
      "Generation 76 - Current best internal CV score: 0.9941176470588236\n",
      "Generation 77 - Current best internal CV score: 0.9941176470588236\n",
      "Generation 78 - Current best internal CV score: 0.9941176470588236\n",
      "Generation 79 - Current best internal CV score: 0.9941176470588236\n",
      "Generation 80 - Current best internal CV score: 0.9941176470588236\n",
      "Generation 81 - Current best internal CV score: 0.9941176470588236\n",
      "Generation 82 - Current best internal CV score: 0.9941176470588236\n",
      "Generation 83 - Current best internal CV score: 0.9941176470588236\n",
      "Generation 84 - Current best internal CV score: 0.9941176470588236\n",
      "Generation 85 - Current best internal CV score: 0.9941176470588236\n",
      "Generation 86 - Current best internal CV score: 0.9941176470588236\n",
      "Generation 87 - Current best internal CV score: 0.9941176470588236\n",
      "Generation 88 - Current best internal CV score: 0.9941176470588236\n",
      "Generation 89 - Current best internal CV score: 0.9941176470588236\n",
      "Generation 90 - Current best internal CV score: 0.9941176470588236\n",
      "Generation 91 - Current best internal CV score: 0.9941176470588236\n",
      "Generation 92 - Current best internal CV score: 0.9941176470588236\n",
      "Generation 93 - Current best internal CV score: 0.9941176470588236\n",
      "Generation 94 - Current best internal CV score: 0.9941176470588236\n",
      "Generation 95 - Current best internal CV score: 0.9941176470588236\n",
      "Generation 96 - Current best internal CV score: 0.9941176470588236\n",
      "Generation 97 - Current best internal CV score: 0.9941176470588236\n",
      "Generation 98 - Current best internal CV score: 0.9941176470588236\n",
      "Generation 99 - Current best internal CV score: 0.9941176470588236\n",
      "Generation 100 - Current best internal CV score: 0.9941176470588236\n",
      "\n",
      "Best pipeline: LinearSVC(RFE(input_matrix, criterion=gini, max_features=0.7500000000000001, n_estimators=100, step=0.8500000000000001), C=10.0, dual=False, loss=squared_hinge, penalty=l1, tol=0.001)\n"
     ]
    },
    {
     "data": {
      "text/plain": [
       "TPOTClassifier(config_dict=None, crossover_rate=0.1, cv=5,\n",
       "        disable_update_check=False, early_stop=None, generations=100,\n",
       "        max_eval_time_mins=5, max_time_mins=None, memory=None,\n",
       "        mutation_rate=0.9, n_jobs=-1, offspring_size=None,\n",
       "        periodic_checkpoint_folder=None, population_size=100,\n",
       "        random_state=None, scoring=None, subsample=1.0,\n",
       "        template='RandomTree', use_dask=False, verbosity=2,\n",
       "        warm_start=False)"
      ]
     },
     "execution_count": 4,
     "metadata": {},
     "output_type": "execute_result"
    }
   ],
   "source": [
    "tpot.fit(X_train, y_train)"
   ]
  },
  {
   "cell_type": "markdown",
   "metadata": {},
   "source": [
    "Let's check the score of the algorithm found:"
   ]
  },
  {
   "cell_type": "code",
   "execution_count": 5,
   "metadata": {},
   "outputs": [
    {
     "data": {
      "text/plain": [
       "0.9560439560439561"
      ]
     },
     "execution_count": 5,
     "metadata": {},
     "output_type": "execute_result"
    }
   ],
   "source": [
    "tpot.score(X_test, y_test)"
   ]
  },
  {
   "cell_type": "markdown",
   "metadata": {},
   "source": [
    "## It is a huge precision (0.9560439560439561). It was done using two steps, as we can verify in the file generated by TPOT (tpot_pipeline) with the choosen pipeline:\n",
    "\n",
    "* RFE feature reduction\n",
    "* LinearSVC"
   ]
  },
  {
   "cell_type": "code",
   "execution_count": 6,
   "metadata": {},
   "outputs": [],
   "source": [
    "tpot.export('tpot_pipeline.py')"
   ]
  },
  {
   "cell_type": "markdown",
   "metadata": {},
   "source": [
    "## Let's try to classify five players now and see how accurate can we be (too much computational time, didn't end executing)"
   ]
  },
  {
   "cell_type": "code",
   "execution_count": 2,
   "metadata": {},
   "outputs": [],
   "source": [
    "X = np.genfromtxt('./features/features_p5_p6_p7_p8_p9_p10.csv', delimiter=',')\n",
    "y = np.genfromtxt('./features/output_p5_p6_p7_p8_p9_p10.csv', delimiter=',')\n",
    "\n",
    "X_train , X_test, y_train, y_test = train_test_split(X,y,train_size = 0.65 ,test_size = 0.35)"
   ]
  },
  {
   "cell_type": "code",
   "execution_count": 3,
   "metadata": {},
   "outputs": [],
   "source": [
    "tpot = TPOTClassifier(verbosity = 2, n_jobs = -1)"
   ]
  },
  {
   "cell_type": "code",
   "execution_count": 4,
   "metadata": {},
   "outputs": [
    {
     "data": {
      "application/vnd.jupyter.widget-view+json": {
       "model_id": "",
       "version_major": 2,
       "version_minor": 0
      },
      "text/plain": [
       "HBox(children=(IntProgress(value=0, description='Optimization Progress', max=10100, style=ProgressStyle(descri…"
      ]
     },
     "metadata": {},
     "output_type": "display_data"
    },
    {
     "name": "stdout",
     "output_type": "stream",
     "text": [
      "Generation 1 - Current best internal CV score: 0.7008033488590746\n",
      "Generation 2 - Current best internal CV score: 0.7174055311226162\n",
      "Generation 3 - Current best internal CV score: 0.7174055311226162\n",
      "Generation 4 - Current best internal CV score: 0.7174055311226162\n",
      "Generation 5 - Current best internal CV score: 0.723114797701448\n",
      "Generation 6 - Current best internal CV score: 0.7250389689918165\n",
      "Generation 7 - Current best internal CV score: 0.7250389689918165\n",
      "Generation 8 - Current best internal CV score: 0.7250389689918165\n",
      "Generation 9 - Current best internal CV score: 0.7270941193935683\n",
      "Generation 10 - Current best internal CV score: 0.7288158684208897\n",
      "Generation 11 - Current best internal CV score: 0.7288158684208897\n",
      "Generation 12 - Current best internal CV score: 0.7288158684208897\n",
      "Generation 13 - Current best internal CV score: 0.7639841464244403\n",
      "Generation 14 - Current best internal CV score: 0.7639841464244403\n",
      "Generation 15 - Current best internal CV score: 0.7639841464244403\n",
      "Generation 16 - Current best internal CV score: 0.7639841464244403\n",
      "Generation 17 - Current best internal CV score: 0.7639841464244403\n",
      "Generation 18 - Current best internal CV score: 0.7639841464244403\n",
      "Generation 19 - Current best internal CV score: 0.7727724272733457\n",
      "Generation 20 - Current best internal CV score: 0.7727724272733457\n",
      "Generation 21 - Current best internal CV score: 0.7727724272733457\n",
      "Generation 22 - Current best internal CV score: 0.7755502050511236\n",
      "Generation 23 - Current best internal CV score: 0.7764429351692058\n",
      "Generation 24 - Current best internal CV score: 0.7782888591982285\n",
      "Generation 25 - Current best internal CV score: 0.7782888591982285\n",
      "Generation 26 - Current best internal CV score: 0.7782888591982285\n",
      "Generation 27 - Current best internal CV score: 0.7782888591982285\n",
      "Generation 28 - Current best internal CV score: 0.7994865989967032\n",
      "Generation 29 - Current best internal CV score: 0.7994865989967032\n",
      "Generation 30 - Current best internal CV score: 0.7994865989967032\n",
      "Generation 31 - Current best internal CV score: 0.7994865989967032\n",
      "Generation 32 - Current best internal CV score: 0.7994865989967032\n",
      "Generation 33 - Current best internal CV score: 0.7994865989967032\n",
      "Generation 34 - Current best internal CV score: 0.7994865989967032\n",
      "Generation 35 - Current best internal CV score: 0.8140514143269808\n",
      "Generation 36 - Current best internal CV score: 0.8140514143269808\n",
      "Generation 37 - Current best internal CV score: 0.8140514143269808\n",
      "Generation 38 - Current best internal CV score: 0.8140514143269808\n",
      "Generation 39 - Current best internal CV score: 0.8143039395795061\n",
      "Generation 40 - Current best internal CV score: 0.8143039395795061\n",
      "Generation 41 - Current best internal CV score: 0.8143039395795061\n",
      "Generation 42 - Current best internal CV score: 0.8143039395795061\n",
      "Generation 43 - Current best internal CV score: 0.8143039395795061\n",
      "Generation 44 - Current best internal CV score: 0.8143039395795061\n",
      "Generation 45 - Current best internal CV score: 0.8143039395795061\n",
      "Generation 46 - Current best internal CV score: 0.8143039395795061\n",
      "Generation 47 - Current best internal CV score: 0.8143039395795061\n",
      "Generation 48 - Current best internal CV score: 0.8143039395795061\n",
      "Generation 49 - Current best internal CV score: 0.8143039395795061\n",
      "Generation 50 - Current best internal CV score: 0.8143039395795061\n",
      "Generation 51 - Current best internal CV score: 0.8143039395795061\n",
      "Generation 52 - Current best internal CV score: 0.8143039395795061\n",
      "Generation 53 - Current best internal CV score: 0.8164620794596299\n",
      "Generation 54 - Current best internal CV score: 0.8164620794596299\n",
      "Generation 55 - Current best internal CV score: 0.8164620794596299\n",
      "Generation 56 - Current best internal CV score: 0.8164620794596299\n",
      "Generation 57 - Current best internal CV score: 0.8164620794596299\n",
      "Generation 58 - Current best internal CV score: 0.8164620794596299\n",
      "Generation 59 - Current best internal CV score: 0.8164620794596299\n",
      "Generation 60 - Current best internal CV score: 0.8164620794596299\n",
      "Generation 61 - Current best internal CV score: 0.8164620794596299\n",
      "Generation 62 - Current best internal CV score: 0.8167475427885715\n",
      "Generation 63 - Current best internal CV score: 0.8171523873146654\n",
      "Generation 64 - Current best internal CV score: 0.8171523873146654\n",
      "Generation 65 - Current best internal CV score: 0.8171523873146654\n",
      "Generation 66 - Current best internal CV score: 0.8171523873146654\n",
      "Generation 67 - Current best internal CV score: 0.8171523873146654\n",
      "Generation 68 - Current best internal CV score: 0.8191801666388316\n",
      "Generation 69 - Current best internal CV score: 0.8191801666388316\n",
      "Generation 70 - Current best internal CV score: 0.8191801666388316\n",
      "Generation 71 - Current best internal CV score: 0.8191801666388316\n",
      "Generation 72 - Current best internal CV score: 0.8191801666388316\n",
      "Generation 73 - Current best internal CV score: 0.8191801666388316\n",
      "Generation 74 - Current best internal CV score: 0.8191801666388316\n",
      "Generation 75 - Current best internal CV score: 0.8191801666388316\n",
      "Generation 76 - Current best internal CV score: 0.819926763037602\n",
      "Generation 77 - Current best internal CV score: 0.819926763037602\n",
      "Generation 78 - Current best internal CV score: 0.819926763037602\n",
      "Generation 79 - Current best internal CV score: 0.819926763037602\n",
      "Generation 80 - Current best internal CV score: 0.819926763037602\n",
      "Generation 81 - Current best internal CV score: 0.819926763037602\n",
      "Generation 82 - Current best internal CV score: 0.819926763037602\n",
      "Generation 83 - Current best internal CV score: 0.819926763037602\n",
      "Generation 84 - Current best internal CV score: 0.819926763037602\n",
      "Generation 85 - Current best internal CV score: 0.819926763037602\n",
      "Generation 86 - Current best internal CV score: 0.819926763037602\n",
      "Generation 87 - Current best internal CV score: 0.819926763037602\n",
      "Generation 88 - Current best internal CV score: 0.819926763037602\n",
      "Generation 89 - Current best internal CV score: 0.819926763037602\n",
      "Generation 90 - Current best internal CV score: 0.8277159222352118\n",
      "Generation 91 - Current best internal CV score: 0.8277159222352118\n",
      "Generation 92 - Current best internal CV score: 0.8277159222352118\n",
      "Generation 93 - Current best internal CV score: 0.8277159222352118\n",
      "Generation 94 - Current best internal CV score: 0.8277159222352118\n",
      "Generation 95 - Current best internal CV score: 0.8277159222352118\n",
      "Generation 96 - Current best internal CV score: 0.8277159222352118\n",
      "Generation 97 - Current best internal CV score: 0.8277159222352118\n",
      "Generation 98 - Current best internal CV score: 0.8277159222352118\n",
      "Generation 99 - Current best internal CV score: 0.8277159222352118\n",
      "Generation 100 - Current best internal CV score: 0.8277159222352118\n",
      "\n",
      "Best pipeline: GradientBoostingClassifier(RBFSampler(SelectFromModel(input_matrix, criterion=gini, max_features=0.6500000000000001, n_estimators=100, threshold=0.05), gamma=0.7000000000000001), learning_rate=0.1, max_depth=5, max_features=0.9500000000000001, min_samples_leaf=18, min_samples_split=2, n_estimators=100, subsample=0.7500000000000001)\n"
     ]
    },
    {
     "data": {
      "text/plain": [
       "TPOTClassifier(config_dict=None, crossover_rate=0.1, cv=5,\n",
       "        disable_update_check=False, early_stop=None, generations=100,\n",
       "        max_eval_time_mins=5, max_time_mins=None, memory=None,\n",
       "        mutation_rate=0.9, n_jobs=-1, offspring_size=None,\n",
       "        periodic_checkpoint_folder=None, population_size=100,\n",
       "        random_state=None, scoring=None, subsample=1.0,\n",
       "        template='RandomTree', use_dask=False, verbosity=2,\n",
       "        warm_start=False)"
      ]
     },
     "execution_count": 4,
     "metadata": {},
     "output_type": "execute_result"
    }
   ],
   "source": [
    "tpot.fit(X_train, y_train)"
   ]
  },
  {
   "cell_type": "code",
   "execution_count": 5,
   "metadata": {},
   "outputs": [],
   "source": [
    "tpot.export('tpot_5players_pipeline.py')"
   ]
  },
  {
   "cell_type": "code",
   "execution_count": 6,
   "metadata": {},
   "outputs": [
    {
     "data": {
      "text/plain": [
       "0.7741935483870968"
      ]
     },
     "execution_count": 6,
     "metadata": {},
     "output_type": "execute_result"
    }
   ],
   "source": [
    "tpot.score(X_test, y_test)"
   ]
  },
  {
   "cell_type": "markdown",
   "metadata": {},
   "source": [
    "## 77,5% of precision for the 5 players, which is a big advance given that the last group couldn't work with three players with reasonable precision with the following pipeline:\n",
    "* SelectFromModel (Dimension reduction)\n",
    "* RBFSampler approximates feature map of an RBF kernel by Monte Carlo approximation of its Fourier transform\n",
    "* GradientBoostingClassifier: GB builds an additive model in a forward stage-wise fashion; it allows for the optimization of arbitrary differentiable loss functions"
   ]
  },
  {
   "cell_type": "markdown",
   "metadata": {},
   "source": [
    "It's important to remark that sampling the trajectory with 1Hz we were able to extract:\n",
    "* 35 points for player 5\n",
    "* 85 points for player 6\n",
    "* 88 points for player 7\n",
    "* 166 points for player 8\n",
    "* 92 points for player 9\n",
    "* 64 points for player 10\n",
    "\n",
    "Which is not enough amount of data to usually train an algorithm"
   ]
  },
  {
   "cell_type": "code",
   "execution_count": null,
   "metadata": {},
   "outputs": [],
   "source": []
  }
 ],
 "metadata": {
  "kernelspec": {
   "display_name": "Python 3",
   "language": "python",
   "name": "python3"
  },
  "language_info": {
   "codemirror_mode": {
    "name": "ipython",
    "version": 3
   },
   "file_extension": ".py",
   "mimetype": "text/x-python",
   "name": "python",
   "nbconvert_exporter": "python",
   "pygments_lexer": "ipython3",
   "version": "3.7.1"
  }
 },
 "nbformat": 4,
 "nbformat_minor": 2
}
