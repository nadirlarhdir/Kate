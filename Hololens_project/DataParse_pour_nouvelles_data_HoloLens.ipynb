{
 "cells": [
  {
   "cell_type": "markdown",
   "metadata": {
    "colab_type": "text",
    "id": "Y_kyx07jjv9c"
   },
   "source": [
    "# Understanding the parser?\n",
    "* In the last cell, enter the xml files of data you wish to use in the game_files list.\n",
    "* Select an agregation function (e.g. agregate_feature_vectors) for the line \"vect = agregation_function(game_files)\"\n",
    "* Export the now .csv data with the line \"export_feature_vectors(vect, \"name_of_the_file.csv\")\""
   ]
  },
  {
   "cell_type": "markdown",
   "metadata": {
    "colab_type": "text",
    "id": "aDgEVy5ajv9e"
   },
   "source": [
    "# First steps"
   ]
  },
  {
   "cell_type": "markdown",
   "metadata": {
    "colab_type": "text",
    "id": "hYttLlsTjv9h"
   },
   "source": [
    "## Imports & Imports of data"
   ]
  },
  {
   "cell_type": "code",
   "execution_count": 1,
   "metadata": {
    "colab": {},
    "colab_type": "code",
    "id": "mGgPobKIjv9i"
   },
   "outputs": [],
   "source": [
    "import xml.etree.ElementTree as et\n",
    "import numpy as np\n",
    "import json\n",
    "import pandas as pd"
   ]
  },
  {
   "cell_type": "code",
   "execution_count": 2,
   "metadata": {},
   "outputs": [],
   "source": [
    "with open ('./Hololens_data/p1.json') as json_file:\n",
    "    data = json.load(json_file)"
   ]
  },
  {
   "cell_type": "code",
   "execution_count": 3,
   "metadata": {
    "colab": {},
    "colab_type": "code",
    "id": "KnCtZizwjv9p"
   },
   "outputs": [],
   "source": [
    "def norm(vect):\n",
    "    sum = 0\n",
    "    \n",
    "    for el in vect:\n",
    "        sum += el**2\n",
    "    \n",
    "    return np.sqrt(sum)"
   ]
  },
  {
   "cell_type": "markdown",
   "metadata": {
    "colab_type": "text",
    "id": "3DNBKz8_mAoE"
   },
   "source": []
  },
  {
   "cell_type": "markdown",
   "metadata": {
    "colab_type": "text",
    "id": "YtntIZnCjv9t"
   },
   "source": [
    "## Useful functions for extracting data from parsed json file"
   ]
  },
  {
   "cell_type": "markdown",
   "metadata": {
    "colab_type": "text",
    "id": "Q1IIDLWijv9w"
   },
   "source": [
    "* The function `read_time` returns the time in second in float format from the parsed timestamp"
   ]
  },
  {
   "cell_type": "code",
   "execution_count": 4,
   "metadata": {
    "colab": {},
    "colab_type": "code",
    "id": "bpr6NLKqjv9y"
   },
   "outputs": [],
   "source": [
    "def create_df_hand(game_file):\n",
    "    with open(game_file) as json_file:\n",
    "        data = json.load(json_file)\n",
    "        \n",
    "    df_game = pd.DataFrame(data['datasList'][0]['listLevelDatas'][0]['userDatas'])\n",
    "    for i in range(1,len(data['datasList'][0]['listLevelDatas'])):\n",
    "        df_game = pd.concat([df_game, pd.DataFrame(data['datasList'][0]['listLevelDatas'][i]['userDatas'])])\n",
    "        \n",
    "    \n",
    "    \n",
    "    #getting rid of the timeStamp's zero\n",
    "    df_game = df_game[df_game['timeStamp']>0]\n",
    "    \n",
    "    #reset index after having got rid of the timeStamp zeros\n",
    "    df_game = df_game.reset_index(drop = True) \n",
    "    \n",
    "    #let's create three new columns, each one with one coordinate for df_game:\n",
    "    #If they show later to be useless, we supprime these lines to get rid of them\n",
    "    position =  df_game['headPos'].apply(pd.Series)\n",
    "    df_game = pd.concat([df_game, position], axis=1)\n",
    "    \n",
    "    #Here we create a column withe a 4-element tuple: (x,y,z,t) for each dataframe\n",
    "    df_game['hand_positions'] = df_game[['x', 'y', 'z', 'timeStamp']].apply(lambda x: tuple(x), axis=1)\n",
    "    \n",
    "    return df_game"
   ]
  },
  {
   "cell_type": "markdown",
   "metadata": {
    "colab_type": "text",
    "id": "g5F41NLdjv92"
   },
   "source": [
    "* The function `parse_root` returns an array containing all the parsed data from the file named 'game_file'"
   ]
  },
  {
   "cell_type": "code",
   "execution_count": 5,
   "metadata": {},
   "outputs": [],
   "source": [
    "def create_df_balloon(game_file):\n",
    "        \n",
    "    with open(game_file) as json_file:\n",
    "        data = json.load(json_file)\n",
    "        \n",
    "        \n",
    "    df_balloon = pd.DataFrame(data['datasList'][0]['listLevelDatas'][0]['listBalloonDatas'])\n",
    "    for i in range(1,len(data['datasList'][0]['listLevelDatas'])):\n",
    "        df_balloon = pd.concat([df_balloon, pd.DataFrame(data['datasList'][0]['listLevelDatas'][i]['listBalloonDatas'])])\n",
    "    \n",
    "    return df_balloon"
   ]
  },
  {
   "cell_type": "markdown",
   "metadata": {
    "colab_type": "text",
    "id": "8x59MfhAjv-i"
   },
   "source": [
    "* The function `hand_positions` extracts the positions of the right hand along with the time corresponding to those positions. It returns an array of shape [(x, y, z, t)] (length number_of_position, with 4 elements arrays representing (x, y, z, t))."
   ]
  },
  {
   "cell_type": "code",
   "execution_count": 6,
   "metadata": {
    "colab": {},
    "colab_type": "code",
    "id": "CPfbVeQ7jv-k"
   },
   "outputs": [],
   "source": [
    "def hand_positions(game_file):\n",
    "    return list(create_df_hand(game_file)['hand_positions'])"
   ]
  },
  {
   "cell_type": "markdown",
   "metadata": {
    "colab_type": "text",
    "id": "GawEgGTPjv-y"
   },
   "source": [
    "* The function `bubble_pop` extracts the time of each game event corresponding to the pop of a bubble by the player. It returns an array of shape [t] (length number_of_bubble_poped)."
   ]
  },
  {
   "cell_type": "code",
   "execution_count": 7,
   "metadata": {
    "colab": {},
    "colab_type": "code",
    "id": "BOmf0oVcjv-y"
   },
   "outputs": [],
   "source": [
    "def bubble_pop(game_file):\n",
    "    return list(create_df_balloon(game_file)['timeOfDestroy'])"
   ]
  },
  {
   "cell_type": "markdown",
   "metadata": {
    "colab_type": "text",
    "id": "w6tDz9AIjv-8"
   },
   "source": [
    "* This last function `bubble_pop_clean` returns the time of bubble gathering, minus the last wave if it misses some of the data"
   ]
  },
  {
   "cell_type": "markdown",
   "metadata": {
    "colab_type": "text",
    "id": "hlEqtDy1jv_E"
   },
   "source": [
    "# Extraction of sub-trajectories & features\n",
    "The function `sub_trajectories` returns an array of shape [[*[(x,y,z,t),(x,y,z,t),...]*, for each bubble in wave], for each wave]. To access all positions and time of the trajectory between the *i* and *i+1* bubble of the *n* wave : *sub_trajectories[n-1][i]*."
   ]
  },
  {
   "cell_type": "code",
   "execution_count": 8,
   "metadata": {
    "colab": {},
    "colab_type": "code",
    "id": "azprmXaGjv_F"
   },
   "outputs": [],
   "source": [
    "def sub_trajectories(game_file):\n",
    "    hand_position = hand_positions(game_file)\n",
    "    #bubble_pop_time = bubble_pop_clean(game_file)\n",
    "    bubble_pop_time = bubble_pop(game_file)\n",
    "    \n",
    "    th = hand_position[0][3] #change to 3 because we have one more dimension\n",
    "    \n",
    "    sub_traj=[]\n",
    "    \n",
    "    nb_waves = len(bubble_pop_time)//5\n",
    "    i=0 #loop count for waves\n",
    "    k=0 #loop count for hand positions\n",
    "    while i<nb_waves :\n",
    "        sub_traj.append([])\n",
    "        j=0 #loop count for bubbles\n",
    "        while j<5:\n",
    "            sub_traj[i].append([])\n",
    "            t = bubble_pop_time[j+5*i] #the time the bubble was gathered\n",
    "            while th < t:\n",
    "                sub_traj[i][j].append(hand_position[k]) #appends the position of the hand and the corresponding time\n",
    "                k+=1\n",
    "                th = hand_position[k][3]\n",
    "            j+=1\n",
    "        i+=1\n",
    "    \n",
    "    return np.array(sub_traj)"
   ]
  },
  {
   "cell_type": "markdown",
   "metadata": {
    "colab_type": "text",
    "id": "Q79nqV_7jv_M"
   },
   "source": [
    "We define some functions to extract interesting features from trajectories. We first look for Static features : \n",
    "* `length` returns the length of the trajectory *traj*\n",
    "* `barycenter` returns the barycenter of the trajectory *traj* in shape (x,y)\n",
    "* `location` returns the average distance of each point to the barycenter of the trajectory *traj*\n",
    "* `location_max` returns the maximum distance between a point of the trajectory and the barycenter of this trajectory\n",
    "* `orientation` returns the angle between points the line between *(x1, y1)* and *(x2, y2)* and the horizontal axis (in degrees)\n",
    "* `orientation_feat` returns the preceeding feature for the first two points and the last two points of the trajectory *traj*\n",
    "* `nb_turns` returns the number of turns in the trajectory *traj*, where a turn is detected if the orientation between two consecutive couples of points varies of more than *limit_angle*"
   ]
  },
  {
   "cell_type": "code",
   "execution_count": 9,
   "metadata": {
    "colab": {},
    "colab_type": "code",
    "id": "9nFIzpmGjv_N"
   },
   "outputs": [],
   "source": [
    "def length(traj):\n",
    "    l = 0\n",
    "    \n",
    "    for i in range(len(traj)-1):\n",
    "        l += np.sqrt((traj[i+1][0]-traj[i][0])**2 + (traj[i+1][1]-traj[i][1])**2+(traj[i+1][2]-traj[i][2])**2)\n",
    "    \n",
    "    return l\n",
    "\n",
    "def barycenter(traj):\n",
    "    x = 0\n",
    "    y = 0\n",
    "    z=0\n",
    "    n = len(traj)\n",
    "    \n",
    "    for i in range(n):\n",
    "        x += traj[i][0]\n",
    "        y += traj[i][1]\n",
    "        z += traj[i][2]\n",
    "    if n>0:\n",
    "        return (x/n, y/n, z/n)\n",
    "    else:\n",
    "        return (0,0,0)\n",
    "\n",
    "def location(traj):\n",
    "    loc_avg = 0\n",
    "    n = len(traj)\n",
    "    p = barycenter(traj)\n",
    "    \n",
    "    for i in range(n):\n",
    "        loc_avg += np.sqrt((traj[i][0] - p[0])**2 + (traj[i][1] - p[1])**2+(traj[i][2]-p[2])**2)\n",
    "        \n",
    "    return loc_avg/n\n",
    "\n",
    "def location_max(traj):\n",
    "    n = len(traj)\n",
    "    p = barycenter(traj)\n",
    "    if n>0:\n",
    "        l_max = np.max([np.sqrt((traj[i][0] - p[0])**2 + (traj[i][1] - p[1])**2+(traj[i][2]-p[2])**2) for i in range(n)])\n",
    "        return l_max\n",
    "    else:\n",
    "        return 0\n",
    "\n",
    "def orientation(x1, x2 , y1, y2, z1, z2):\n",
    "    if x2-x1<0:\n",
    "        return [np.arctan((y2 - y1)/(x2 - x1)) * (180/np.pi),np.arctan((z2 - z1)/(x2 - x1)) * (180/np.pi)+180] #in degree\n",
    "    elif z2-z1<0 and x2-x1>0:\n",
    "        return [np.arctan((y2 - y1)/(x2 - x1)) * (180/np.pi),np.arctan((z2 - z1)/(x2 - x1)) * (180/np.pi)] #in degree\n",
    "    if x2 == x1 and y2>=y1 and z2==z1:\n",
    "        return [90,0]\n",
    "    elif x2 == x1 and y2<=y1 and z2==z1:\n",
    "        return [-90,0]\n",
    "    elif x2-x1>0 and z2-z1>=0:\n",
    "        return [np.arctan((y2 - y1)/(x2 - x1)) * (180/np.pi),np.arctan((z2 - z1)/(x2 - x1)) * (180/np.pi)+180] #in degree\n",
    "\n",
    "def orientation_feat(traj):\n",
    "    n = len(traj)\n",
    "    if n>1:\n",
    "        ts = orientation(traj[0][0], traj[1][0], traj[0][1], traj[1][1], traj[0][2], traj[1][2])\n",
    "        te = orientation(traj[-2][0], traj[-1][0], traj[-2][1], traj[-1][1], traj[-2][2], traj[-1][2]) \n",
    "\n",
    "        return (ts, te)\n",
    "    else:\n",
    "        return ([0,0],[0,0])\n",
    "\n",
    "def nb_turns(traj, limit_angle):\n",
    "    nb_turns = 0\n",
    "    n=len(traj)\n",
    "    \n",
    "    for i in range(n-2):\n",
    "        if(np.abs(orientation(traj[i][0], traj[i+1][0], traj[i][1], traj[i+1][1], traj[i][2], traj[i+1][2])[0] - orientation(traj[i+1][0], traj[i+2][0], traj[i+1][1], traj[i+2][1], traj[i+1][2], traj[i+2][2])[0]) > limit_angle1):\n",
    "            nb_turns += 1\n",
    "    \n",
    "    return nb_turns"
   ]
  },
  {
   "cell_type": "markdown",
   "metadata": {
    "colab_type": "text",
    "id": "qv-leuhAjv_O"
   },
   "source": [
    "We then define dynamic features:\n",
    "* `velocity` returns the list of the point to point velocities over the whole trajectory *traj*\n",
    "* `velocity_avg` returns the average velocity over the trajectory *traj*\n",
    "* `velocity_max` returns the greatest velocity over the trajectory *traj*\n",
    "* `velocity_min` returns the lowest velocity over the trajectory *traj*\n",
    "* `nb_vmin` returns the number of local minimum of velocity\n",
    "* `nb_vmax` returns the number of local maximum of velocity"
   ]
  },
  {
   "cell_type": "code",
   "execution_count": 10,
   "metadata": {
    "colab": {},
    "colab_type": "code",
    "id": "68XiT9xwjv_O"
   },
   "outputs": [],
   "source": [
    "def velocity(traj):\n",
    "    velocity = []\n",
    "    \n",
    "    for i in range(len(traj) - 1):\n",
    "        v = norm(np.array(traj)[i+1][:3] - np.array(traj)[i][:3]) / (np.array(traj)[i+1][3] - np.array(traj)[i][3])\n",
    "        velocity.append(v)\n",
    "        \n",
    "    return np.array(velocity)\n",
    "\n",
    "def velocity_avg(traj):\n",
    "    v_avg = 0\n",
    "    n = len(traj)\n",
    "    if n>1:\n",
    "        v_list = velocity(traj)\n",
    "\n",
    "        for i in range(n-1):\n",
    "            v_avg += v_list[i]\n",
    "\n",
    "        return v_avg/(n-1)\n",
    "    else:\n",
    "        return 0\n",
    "\n",
    "def velocity_max(traj):\n",
    "    if len(traj)>1:\n",
    "        return np.max(velocity(traj))\n",
    "    else:\n",
    "        return 0\n",
    "\n",
    "def velocity_min(traj):\n",
    "    if len(traj)>1:\n",
    "        return np.min(velocity(traj))\n",
    "    else:\n",
    "        return 0\n",
    "\n",
    "def nb_vmin(traj):\n",
    "    nb = 0\n",
    "    v_list = velocity(traj)\n",
    "    \n",
    "    for i in range(1,len(v_list)-1):\n",
    "        if v_list[i]<v_list[i+1] and v_list[i]<v_list[i-1]:\n",
    "            nb += 1\n",
    "    \n",
    "    return nb\n",
    "\n",
    "def nb_vmax(traj):\n",
    "    nb = 0\n",
    "    v_list = velocity(traj)\n",
    "    \n",
    "    for i in range(1,len(v_list)-1):\n",
    "        if v_list[i]>v_list[i+1] and v_list[i]>v_list[i-1]:\n",
    "            nb += 1\n",
    "    \n",
    "    return nb"
   ]
  },
  {
   "cell_type": "markdown",
   "metadata": {
    "colab_type": "text",
    "id": "SdAveNfkjv_Q"
   },
   "source": [
    "The function `feature_vector` extracts features from the trajectory in argument *traj = [(x,y)]* and takes in argument a list of features with some of the following elements:[\"dist/diag\",\"game area\",\"barycenter distance\",\"angles\",\"nb turns\",\"velocity average\",\"velocity min\",\"velocity max\",\"number of mins\",\"number of maxs\"]"
   ]
  },
  {
   "cell_type": "code",
   "execution_count": 11,
   "metadata": {
    "colab": {},
    "colab_type": "code",
    "id": "dA4Xaqfajv_R"
   },
   "outputs": [],
   "source": [
    "def bucketize_nb_turns(nb_turn):\n",
    "    if nb_turn <=10:\n",
    "        return [1, 0, 0, 0]\n",
    "    elif nb_turn <=20:\n",
    "        return [0, 1, 0, 0]\n",
    "    elif nb_turn <=30: \n",
    "        return [0, 0, 1, 0]\n",
    "    else:\n",
    "        return [0, 0, 0, 1] "
   ]
  },
  {
   "cell_type": "code",
   "execution_count": 12,
   "metadata": {
    "colab": {},
    "colab_type": "code",
    "id": "bJMcXJkrjv_S"
   },
   "outputs": [],
   "source": [
    "def bucketize_nb_v(nb_v):\n",
    "    if nb_v < 10:\n",
    "        return [1, 0, 0, 0]\n",
    "    elif nb_v < 20: \n",
    "        return [0, 1, 0, 0]\n",
    "    elif nb_v < 30: \n",
    "        return [0, 0, 1, 0]\n",
    "    else:\n",
    "        return [0, 0, 0, 1] "
   ]
  },
  {
   "cell_type": "code",
   "execution_count": 13,
   "metadata": {
    "colab": {},
    "colab_type": "code",
    "id": "grcTKi59jv_U"
   },
   "outputs": [],
   "source": [
    "def feature_vector(traj, playerID, game_area, limit_angle=0.25,Listefeatures=[\"dist/diag\",\"game area\",\"barycenter distance\",\"angles\",\"nb turns\",\"velocity average\",\"velocity min\",\"velocity max\",\"number of mins\",\"number of maxs\"]):\n",
    "    diag = np.sqrt(game_area[0]**2 + game_area[1]**2)\n",
    "    listetot=[]\n",
    "    dist=0\n",
    "    feature_vector = [playerID]\n",
    "    for i in range(len(traj)):\n",
    "        listetot+=traj[i]\n",
    "        dist+=length(traj[i])\n",
    "    bc=barycenter(listetot)\n",
    "    if \"dist/diag\" in Listefeatures:\n",
    "        feature_vector.append(dist/diag)\n",
    "    if \"game area\" in Listefeatures:\n",
    "        feature_vector.append(np.float64(0.5 + bc[0] / game_area[0])) # between 0 and 1\n",
    "        feature_vector.append(np.float64(0.5 + bc[1] / game_area[1]))\n",
    "    if location_max(listetot) == 0 and \"barycenter distance\" in Listefeatures:\n",
    "            feature_vector.append(np.float64(0))\n",
    "    elif \"barycenter distance\" in Listefeatures:\n",
    "            feature_vector.append(location(listetot)/location_max(listetot))\n",
    "    angles = 0.5 + np.array(orientation_feat(listetot)) / 180 # between 0 and 1\n",
    "    if \"angles\" in Listefeatures:\n",
    "        feature_vector.append(angles[0][0]) #first orientation of traj\n",
    "        feature_vector.append(angles[0][1])\n",
    "        feature_vector.append(angles[1][1])#last orientation of traj\n",
    "        feature_vector.append(angles[1][1])\n",
    "    if \"nb turns\" in Listefeatures:\n",
    "        feature_vector.append(nb_turns(listetot, limit_angle))\n",
    "    if \"velocity average\" in Listefeatures:\n",
    "        feature_vector.append(velocity_avg(listetot))\n",
    "    if \"velocity min\" in Listefeatures:\n",
    "        feature_vector.append(velocity_min(listetot))\n",
    "    if \"velocity max\" in Listefeatures:\n",
    "        feature_vector.append(velocity_max(listetot))\n",
    "    if \"number of mins\" in Listefeatures:\n",
    "        feature_vector.append(nb_vmin(listetot))\n",
    "    if \"number of maxs\" in Listefeatures:\n",
    "        feature_vector.append(nb_vmax(listetot))\n",
    "    \n",
    "    return feature_vector"
   ]
  },
  {
   "cell_type": "code",
   "execution_count": 15,
   "metadata": {},
   "outputs": [],
   "source": [
    "#print(feature_vector(sub_trajectories(data),0,[21,10]))"
   ]
  },
  {
   "cell_type": "code",
   "execution_count": 16,
   "metadata": {
    "colab": {},
    "colab_type": "code",
    "id": "g0obWrdUjv_W"
   },
   "outputs": [],
   "source": [
    "def feature_vector_bucket(traj, playerID, game_area = [21,10], limit_angle=0.25,Listefeatures=[\"dist/diag\",\"game area\",\"barycenter distance\",\"angles\",\"nb turns\",\"velocity average\",\"velocity min\",\"velocity max\",\"number of mins\",\"number of maxs\"]):\n",
    "    diag = np.sqrt(game_area[0]**2 + game_area[1]**2)\n",
    "    listetot=[]\n",
    "    dist=0\n",
    "    feature_vector = [playerID]\n",
    "    for i in range(len(traj)):\n",
    "        listetot+=traj[i]\n",
    "        dist+=length(traj[i])\n",
    "    bc=barycenter(listetot)\n",
    "    if \"dist/diag\" in Listefeatures:\n",
    "        feature_vector.append(dist/diag)\n",
    "    if \"game area\" in Listefeatures:\n",
    "        feature_vector.append(np.float64(0.5 + bc[0] / game_area[0])) # between 0 and 1\n",
    "        feature_vector.append(np.float64(0.5 + bc[1] / game_area[1]))\n",
    "    if location_max(listetot) == 0 and \"barycenter distance\" in Listefeatures:\n",
    "            feature_vector.append(np.float64(0))\n",
    "    elif \"barycenter distance\" in Listefeatures:\n",
    "            feature_vector.append(location(listetot)/location_max(listetot))\n",
    "    angles = 0.5 + np.array(orientation_feat(listetot)) / 180 # between 0 and 1\n",
    "    if \"angles\" in Listefeatures:\n",
    "        feature_vector.append(angles[0][0]) #first orientation of traj\n",
    "        feature_vector.append(angles[0][1])\n",
    "        feature_vector.append(angles[1][1])#last orientation of traj\n",
    "        feature_vector.append(angles[1][1])\n",
    "    if \"nb turns\" in Listefeatures:\n",
    "        bucket = bucketize_nb_turns(nb_turns(listetot, limit_angle))\n",
    "        for i in bucket:\n",
    "            feature_vector.append(i)\n",
    "    \n",
    "    v_max = velocity_max(listetot)\n",
    "    if v_max == 0:\n",
    "        if \"velocity average\" in Listefeatures:\n",
    "            feature_vector.append(0)\n",
    "        if \"velocity max\" in Listefeatures:\n",
    "            feature_vector.append(0)\n",
    "        if \"velocity min\" in Listefeatures:\n",
    "            feature_vector.append(0)\n",
    "    else:\n",
    "        if \"velocity average\" in Listefeatures:\n",
    "            feature_vector.append(velocity_avg(listetot) / v_max)\n",
    "        if \"velocity min\" in Listefeatures:\n",
    "            feature_vector.append(velocity_min(listetot) / v_max)\n",
    "        if \"velocity max\" in Listefeatures:\n",
    "            feature_vector.append(v_max)\n",
    "    \n",
    "    bucket_min = bucketize_nb_v(nb_vmin(listetot))\n",
    "    bucket_max = bucketize_nb_v(nb_vmax(listetot))\n",
    "    if \"number of mins\" in Listefeatures:\n",
    "        for i in bucket_min:\n",
    "            feature_vector.append(i)\n",
    "    if \"number of maxs\" in Listefeatures:\n",
    "        for j in bucket_max:\n",
    "            feature_vector.append(j)\n",
    "    \n",
    "    return feature_vector\n",
    "    \n"
   ]
  },
  {
   "cell_type": "markdown",
   "metadata": {
    "colab_type": "text",
    "id": "6MCgm83ujv_Y"
   },
   "source": [
    "The function `feature_vectors_game` allows to create the feature vectors over all the trajectories between the gathering of two bubbles of one game. The returned array is an array of multiple 13x5 arrays (the five feature vectors, containing 13 features each, corresponding to the five trajectories of each wave)."
   ]
  },
  {
   "cell_type": "code",
   "execution_count": null,
   "metadata": {},
   "outputs": [],
   "source": []
  },
  {
   "cell_type": "code",
   "execution_count": 17,
   "metadata": {
    "colab": {},
    "colab_type": "code",
    "id": "obFC0J0ojv_Z"
   },
   "outputs": [],
   "source": [
    "def feature_vectors_game(game_file, game_area = [21,10],Listefeatures=[\"dist/diag\",\"game area\",\"barycenter distance\",\"angles\",\"nb turns\",\"velocity average\",\"velocity min\",\"velocity max\",\"number of mins\",\"number of maxs\"]):\n",
    "    trajectories = np.array(sub_trajectories(game_file))\n",
    "    nb_waves = len(trajectories)\n",
    "    playerID = int(parse_root(game_file)[2][0].text)\n",
    "    vectors = []\n",
    "    for i in range(0,nb_waves):\n",
    "        vectors.append(feature_vector(trajectories[i], playerID, game_area,Listefeatures))\n",
    "    \n",
    "    return np.array(vectors)"
   ]
  },
  {
   "cell_type": "code",
   "execution_count": 18,
   "metadata": {},
   "outputs": [],
   "source": [
    "def simple_features_generator(game_list,Listefeatures=[\"dist/diag\",\"game area\",\"barycenter distance\",\"angles\",\"nb turns\",\"velocity average\",\"velocity min\",\"velocity max\",\"number of mins\",\"number of maxs\"]):\n",
    "    features=[]\n",
    "    labels=[]\n",
    "    for file in game_list:\n",
    "        for layer1 in feature_vectors_game(file,Listefeatures):\n",
    "            features.append(layer1[1:])\n",
    "            labels.append(layer1[0])\n",
    "    np.savetxt('features.csv', features, delimiter=\",\")\n",
    "    np.savetxt('output.csv', labels, delimiter=\",\")\n",
    "    return features, labels"
   ]
  },
  {
   "cell_type": "code",
   "execution_count": 19,
   "metadata": {},
   "outputs": [],
   "source": [
    "def simple_features_bucket_generator(game_list,Listefeatures=[\"dist/diag\",\"game area\",\"barycenter distance\",\"angles\",\"nb turns\",\"velocity average\",\"velocity min\",\"velocity max\",\"number of mins\",\"number of maxs\"]):\n",
    "    features=[]\n",
    "    labels=[]\n",
    "    for file in game_list:\n",
    "        trajectories = np.array(sub_trajectories(file))\n",
    "        playerID = int(parse_root(file)[2][0].text)\n",
    "        for traj in trajectories:\n",
    "            for layer1 in feature_vector_bucket(traj, playerID,Listefeatures):\n",
    "                features.append(layer1[1:])\n",
    "                labels.append(layer1[0])\n",
    "    np.savetxt('features_bucket.csv', features, delimiter=\",\")\n",
    "    np.savetxt('output_bucket.csv', labels, delimiter=\",\")\n",
    "    return features, labels"
   ]
  },
  {
   "cell_type": "markdown",
   "metadata": {
    "colab_type": "text",
    "id": "GIhn6aP1jv_a"
   },
   "source": [
    "The following functions provide different shapes for the feature vector. This way of creating the feature vector could be improved by using tensorflow and its feature vectors, instead of creating it \"by hand\".\n",
    "* \"concat\" means all features are concatenated into one numpy vector for each sample\n",
    "* \"bucket\" means it uses the bucketized version of the feature vector (for nb_turns, nb_vmin, nb_vmax)\n",
    "* \"hands\"  means it uses the hand used to play as label instead of the player's ID"
   ]
  },
  {
   "cell_type": "code",
   "execution_count": 20,
   "metadata": {
    "colab": {},
    "colab_type": "code",
    "id": "-j6IMn-djv_a"
   },
   "outputs": [],
   "source": [
    "def feature_vectors_game_concat(game_file, game_area = [21,10],Listefeatures=[\"dist/diag\",\"game area\",\"barycenter distance\",\"angles\",\"nb turns\",\"velocity average\",\"velocity min\",\"velocity max\",\"number of mins\",\"number of maxs\"]):\n",
    "    trajectories = np.array(sub_trajectories(game_file))\n",
    "    nb_waves = len(trajectories)\n",
    "    playerID = int(parse_root(game_file)[2][0].text)\n",
    "    vectors = []\n",
    "    \n",
    "    for i in range(nb_waves):\n",
    "        vectors.append([])\n",
    "        for traj in trajectories[i]:\n",
    "            vectors[i] = vectors[i] + list(feature_vector(traj, playerID, game_area,Listefeatures)[1:])\n",
    "        vectors[i].append(playerID)\n",
    "    \n",
    "    return np.array(vectors)"
   ]
  },
  {
   "cell_type": "code",
   "execution_count": 21,
   "metadata": {
    "colab": {},
    "colab_type": "code",
    "id": "WvLD_-gFjv_e"
   },
   "outputs": [],
   "source": [
    "def feature_vectors_bucket_game_concat(game_file, game_area = [21,10],Listefeatures=[\"dist/diag\",\"game area\",\"barycenter distance\",\"angles\",\"nb turns\",\"velocity average\",\"velocity min\",\"velocity max\",\"number of mins\",\"number of maxs\"]):\n",
    "    trajectories = np.array(sub_trajectories(game_file))\n",
    "    nb_waves = len(trajectories)\n",
    "    playerID = int(parse_root(game_file)[2][0].text)\n",
    "    vectors = []\n",
    "    \n",
    "    for i in range(nb_waves):\n",
    "        vectors.append([])\n",
    "        for traj in trajectories[i]:\n",
    "            vectors[i] = vectors[i] + list(feature_vector_bucket(traj, playerID, game_area,Listefeatures)[1:])\n",
    "        vectors[i].append(playerID)\n",
    "    \n",
    "    return np.array(vectors)"
   ]
  },
  {
   "cell_type": "code",
   "execution_count": 22,
   "metadata": {
    "colab": {},
    "colab_type": "code",
    "id": "O-B9XE7pjv_k"
   },
   "outputs": [],
   "source": [
    "def feature_vectors_bucket_game_concat_hands(game_file, game_area = [21,10],Listefeatures=[\"dist/diag\",\"game area\",\"barycenter distance\",\"angles\",\"nb turns\",\"velocity average\",\"velocity min\",\"velocity max\",\"number of mins\",\"number of maxs\"]):\n",
    "    trajectories = np.array(sub_trajectories(game_file))\n",
    "    nb_waves = len(trajectories)\n",
    "    if parse_root(game_file)[2][2].text == 'false':\n",
    "        useRightHand = 0\n",
    "    else:\n",
    "        useRightHand = 1\n",
    "    vectors = []\n",
    "    \n",
    "    for i in range(nb_waves):\n",
    "        vectors.append([])\n",
    "        for traj in trajectories[i]:\n",
    "            vectors[i] = vectors[i] + list(feature_vector_bucket(traj, useRightHand, game_area,Listefeatures)[1:])\n",
    "        vectors[i].append(useRightHand)\n",
    "    \n",
    "    return np.array(vectors)"
   ]
  },
  {
   "cell_type": "markdown",
   "metadata": {
    "colab_type": "text",
    "id": "8-Y5Xdewjv_k"
   },
   "source": [
    "Finally we provide a function to get the agregation of all feature vectors over multiple game files, where *game_files* is the list of the names (String type) of all the game files to be considered."
   ]
  },
  {
   "cell_type": "code",
   "execution_count": 23,
   "metadata": {
    "colab": {},
    "colab_type": "code",
    "id": "PZ3GV8_Ejv_m"
   },
   "outputs": [],
   "source": [
    "def agregate_feature_vectors(game_files,Listefeatures=[\"dist/diag\",\"game area\",\"barycenter distance\",\"angles\",\"nb turns\",\"velocity average\",\"velocity min\",\"velocity max\",\"number of mins\",\"number of maxs\"]):\n",
    "    vectors = []\n",
    "    for file in game_files:\n",
    "        vectors = vectors + list(feature_vectors_game_concat(file,Listefeatures))\n",
    "    \n",
    "    return np.array(vectors)"
   ]
  },
  {
   "cell_type": "code",
   "execution_count": 24,
   "metadata": {
    "colab": {},
    "colab_type": "code",
    "id": "g0VBVaWwjv_q"
   },
   "outputs": [],
   "source": [
    "def agregate_feature_vectors_bucket(game_files,Listefeatures=[\"dist/diag\",\"game area\",\"barycenter distance\",\"angles\",\"nb turns\",\"velocity average\",\"velocity min\",\"velocity max\",\"number of mins\",\"number of maxs\"]):\n",
    "    vectors = []\n",
    "    for file in game_files:\n",
    "        vectors = vectors + list(feature_vectors_bucket_game_concat(file,Listefeatures))\n",
    "    \n",
    "    return np.array(vectors)"
   ]
  },
  {
   "cell_type": "code",
   "execution_count": 25,
   "metadata": {
    "colab": {},
    "colab_type": "code",
    "id": "RV3_-lu_jv_u"
   },
   "outputs": [],
   "source": [
    "def agregate_feature_vectors_bucket_hands(game_files,Listefeatures=[\"dist/diag\",\"game area\",\"barycenter distance\",\"angles\",\"nb turns\",\"velocity average\",\"velocity min\",\"velocity max\",\"number of mins\",\"number of maxs\"]):\n",
    "    vectors = []\n",
    "    for file in game_files:\n",
    "        vectors = vectors + list(feature_vectors_bucket_game_concat_hands(file,Listefeatures))\n",
    "    \n",
    "    return np.array(vectors)"
   ]
  },
  {
   "cell_type": "markdown",
   "metadata": {
    "colab_type": "text",
    "id": "93TU317kjv_y"
   },
   "source": [
    "# Export of the final data"
   ]
  },
  {
   "cell_type": "code",
   "execution_count": 26,
   "metadata": {
    "colab": {},
    "colab_type": "code",
    "id": "PZCipwgtjv_y"
   },
   "outputs": [],
   "source": [
    "def export_feature_vectors(vectors, name):\n",
    "    np.savetxt(name, vectors, delimiter=\",\")"
   ]
  },
  {
   "cell_type": "code",
   "execution_count": null,
   "metadata": {},
   "outputs": [],
   "source": []
  },
  {
   "cell_type": "code",
   "execution_count": null,
   "metadata": {},
   "outputs": [],
   "source": []
  }
 ],
 "metadata": {
  "colab": {
   "name": "Understandig the old parsing.ipynb",
   "provenance": [],
   "version": "0.3.2"
  },
  "kernelspec": {
   "display_name": "Python 3",
   "language": "python",
   "name": "python3"
  },
  "language_info": {
   "codemirror_mode": {
    "name": "ipython",
    "version": 3
   },
   "file_extension": ".py",
   "mimetype": "text/x-python",
   "name": "python",
   "nbconvert_exporter": "python",
   "pygments_lexer": "ipython3",
   "version": "3.7.1"
  }
 },
 "nbformat": 4,
 "nbformat_minor": 1
}
