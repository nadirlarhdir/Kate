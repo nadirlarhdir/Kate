{
 "cells": [
  {
   "cell_type": "code",
   "execution_count": 1,
   "metadata": {},
   "outputs": [],
   "source": [
    "import numpy as np\n",
    "from sklearn.decomposition import PCA\n",
    "import matplotlib\n",
    "import matplotlib.pyplot as plt\n",
    "from mpl_toolkits.mplot3d import Axes3D # Pour faire des graphiques 3D\n",
    "from sklearn.neighbors import KNeighborsClassifier"
   ]
  },
  {
   "cell_type": "markdown",
   "metadata": {},
   "source": [
    "Let's start by applying the Algorithm with the 3 players"
   ]
  },
  {
   "cell_type": "code",
   "execution_count": 46,
   "metadata": {},
   "outputs": [],
   "source": [
    "X = np.genfromtxt('features_julian_paul_sarah.csv', delimiter=',')\n",
    "y = np.genfromtxt('output_julian_paul_sarah.csv', delimiter=',')"
   ]
  },
  {
   "cell_type": "markdown",
   "metadata": {},
   "source": [
    "## Applying PCA"
   ]
  },
  {
   "cell_type": "code",
   "execution_count": 47,
   "metadata": {},
   "outputs": [],
   "source": [
    "model_pca3 = PCA(n_components=3)\n",
    "\n",
    "# On entraîne notre modèle (fit) sur les données\n",
    "model_pca3.fit(X)\n",
    "\n",
    "# On applique le résultat sur nos données :\n",
    "X_reduced3 = model_pca3.transform(X)\n",
    "\n",
    "# On crée notre modèle pour obtenir 2 composantes\n",
    "model_pca2 = PCA(n_components = 2)\n",
    "\n",
    "# On entraîne notre modèle (fit) sur les données\n",
    "model_pca2.fit(X)\n",
    "\n",
    "# On applique le résultat sur nos données :\n",
    "X_reduced2 = model_pca2.transform(X)"
   ]
  },
  {
   "cell_type": "markdown",
   "metadata": {},
   "source": [
    "## Applying K-means    \n"
   ]
  },
  {
   "cell_type": "code",
   "execution_count": 48,
   "metadata": {},
   "outputs": [],
   "source": [
    "def visualiser_modele(model):\n",
    "    \n",
    "    levels = [0, 1, 2, 3]\n",
    "    colors = ['red', 'yellow', 'blue']\n",
    "    cmap, norm = matplotlib.colors.from_levels_and_colors(levels, colors)\n",
    "    \n",
    "    # On crée un tableau de coordonnées pour chaque point du plan (une grille)\n",
    "    xx, yy = np.meshgrid(np.arange(-4, 4, 0.1), np.arange(-1.5, 1.6, 0.1))\n",
    "    X_grid = np.c_[xx.flatten(), yy.flatten()]\n",
    "\n",
    "    # On calcule ce que prédit le classifier en chaque point de ce plan\n",
    "    y_grid = model.predict(X_grid)\n",
    "\n",
    "    # On dessine ce que le modèle prévoit sur le plan\n",
    "    plt.contourf(xx, yy, y_grid.reshape(xx.shape), cmap='Spectral')\n",
    "\n",
    "    # On affiche les points du training en contour noir\n",
    "    plt.scatter(X_train[:, 0], X_train[:, 1], c=y_train, marker = \"o\", norm=norm, cmap=cmap, edgeColor='black')\n",
    "\n",
    "    # On affiche les points du test en contour blanc\n",
    "    plt.scatter(X_test[:, 0], X_test[:, 1], c=y_test, marker =\"o\",norm=norm, cmap=cmap, edgeColor='white', linewidths=2)\n",
    "    \n",
    "#visualiser_modele(model_knn)"
   ]
  },
  {
   "cell_type": "code",
   "execution_count": 49,
   "metadata": {},
   "outputs": [
    {
     "name": "stdout",
     "output_type": "stream",
     "text": [
      "Précision : 48%\n"
     ]
    },
    {
     "data": {
      "image/png": "[encoded data removed]",
      "text/plain": [
       "<Figure size 432x288 with 1 Axes>"
      ]
     },
     "metadata": {
      "needs_background": "light"
     },
     "output_type": "display_data"
    }
   ],
   "source": [
    "#applying K-means    \n",
    "# Mélanger le dataset (penser à mélanger les features et les labels de la même façon...)\n",
    "p = np.random.permutation(len(X))\n",
    "X, y = X[p], y[p]\n",
    "\n",
    "# Réduire à 2 dimensions\n",
    "model_pca2.fit(X)\n",
    "X_reduced2 = model_pca2.transform(X)\n",
    "\n",
    "# Séparer training et test\n",
    "training_ratio = 0.6\n",
    "l = len(X)\n",
    "X_train = X_reduced2[:int(l*training_ratio)]\n",
    "X_test = X_reduced2[int(l*training_ratio):]\n",
    "y_train = y[:int(l*training_ratio)]\n",
    "y_test = y[int(l*training_ratio):]\n",
    "\n",
    "\n",
    "# Créer le classifier\n",
    "model_knn = KNeighborsClassifier(30)\n",
    "\n",
    "# Entrainer le classifier sur les données d'entrainement (X_train et y_train)\n",
    "model_knn.fit(X_train, y_train)\n",
    "\n",
    "# Evaluer\n",
    "y_pred = model_knn.predict(X_test)\n",
    "\n",
    "true_positive = sum(y_pred == y_test)\n",
    "n_predictions = len(y_test)\n",
    "accuracy = true_positive / n_predictions\n",
    "\n",
    "print(\"Précision : %i%%\" % (accuracy * 100))\n",
    "\n",
    "# Afficher les résultats\n",
    "visualiser_modele(model_knn)"
   ]
  },
  {
   "cell_type": "markdown",
   "metadata": {},
   "source": [
    "Let's apply k-neighors now with only Julien and Sarah with a 2-dimension PCA"
   ]
  },
  {
   "cell_type": "code",
   "execution_count": 50,
   "metadata": {},
   "outputs": [],
   "source": [
    "X = np.genfromtxt('features_julian_sarah.csv', delimiter=',')\n",
    "y = np.genfromtxt('output_julian_sarah.csv', delimiter=',')"
   ]
  },
  {
   "cell_type": "code",
   "execution_count": 51,
   "metadata": {},
   "outputs": [
    {
     "name": "stdout",
     "output_type": "stream",
     "text": [
      "Précision : 72%\n"
     ]
    },
    {
     "data": {
      "image/png": "[encoded data removed]",
      "text/plain": [
       "<Figure size 432x288 with 1 Axes>"
      ]
     },
     "metadata": {
      "needs_background": "light"
     },
     "output_type": "display_data"
    }
   ],
   "source": [
    "#applying K-means    \n",
    "# Mélanger le dataset (penser à mélanger les features et les labels de la même façon...)\n",
    "p = np.random.permutation(len(X))\n",
    "X, y = X[p], y[p]\n",
    "\n",
    "model_pca2 = PCA(n_components = 2)\n",
    "model_pca2.fit(X)\n",
    "X_reduced2 = model_pca2.transform(X)\n",
    "\n",
    "\n",
    "# Séparer training et test\n",
    "training_ratio = 0.6\n",
    "l = len(X)\n",
    "X_train = X_reduced2[:int(l*training_ratio)]\n",
    "X_test = X_reduced2[int(l*training_ratio):]\n",
    "y_train = y[:int(l*training_ratio)]\n",
    "y_test = y[int(l*training_ratio):]\n",
    "\n",
    "\n",
    "# Créer le classifier\n",
    "model_knn = KNeighborsClassifier(30)\n",
    "\n",
    "# Entrainer le classifier sur les données d'entrainement (X_train et y_train)\n",
    "model_knn.fit(X_train, y_train)\n",
    "\n",
    "# Evaluer\n",
    "y_pred = model_knn.predict(X_test)\n",
    "\n",
    "true_positive = sum(y_pred == y_test)\n",
    "n_predictions = len(y_test)\n",
    "accuracy = true_positive / n_predictions\n",
    "\n",
    "print(\"Précision : %i%%\" % (accuracy * 100))\n",
    "\n",
    "# Afficher les résultats\n",
    "visualiser_modele(model_knn)"
   ]
  },
  {
   "cell_type": "markdown",
   "metadata": {},
   "source": [
    "Let's try a 3-dimension PCA now"
   ]
  },
  {
   "cell_type": "code",
   "execution_count": 52,
   "metadata": {},
   "outputs": [
    {
     "name": "stdout",
     "output_type": "stream",
     "text": [
      "Précision : 74%\n"
     ]
    }
   ],
   "source": [
    "# Mélanger le dataset (penser à mélanger les features et les labels de la même façon...)\n",
    "#X = np.genfromtxt('features_julian_sarah.csv', delimiter=',')\n",
    "#y = np.genfromtxt('output_julian_sarah.csv', delimiter=',')\n",
    "\n",
    "#p = np.random.permutation(len(X))\n",
    "#X, y = X[p], y[p]\n",
    "\n",
    "model_pca3 = PCA(n_components=3)\n",
    "model_pca3.fit(X)\n",
    "X_reduced3 = model_pca3.transform(X)\n",
    "\n",
    "# Séparer training et test\n",
    "training_ratio = 0.6\n",
    "l = len(X)\n",
    "X_train = X_reduced3[:int(l*training_ratio)]\n",
    "X_test = X_reduced3[int(l*training_ratio):]\n",
    "y_train = y[:int(l*training_ratio)]\n",
    "y_test = y[int(l*training_ratio):]\n",
    "\n",
    "\n",
    "# Créer le classifier\n",
    "model_knn = KNeighborsClassifier(30)\n",
    "\n",
    "# Entrainer le classifier sur les données d'entrainement (X_train et y_train)\n",
    "model_knn.fit(X_train, y_train)\n",
    "\n",
    "# Evaluer\n",
    "y_pred = model_knn.predict(X_test)\n",
    "\n",
    "true_positive = sum(y_pred == y_test)\n",
    "n_predictions = len(y_test)\n",
    "accuracy = true_positive / n_predictions\n",
    "\n",
    "print(\"Précision : %i%%\" % (accuracy * 100))\n"
   ]
  },
  {
   "cell_type": "markdown",
   "metadata": {},
   "source": [
    "The precision increased from 72% to 74% using a PCA of dimension 3. Let's analyse using a PCA of dimension 10"
   ]
  },
  {
   "cell_type": "code",
   "execution_count": 54,
   "metadata": {},
   "outputs": [
    {
     "name": "stdout",
     "output_type": "stream",
     "text": [
      "Précision : 74%\n"
     ]
    }
   ],
   "source": [
    "model_pca10 = PCA(n_components=10)\n",
    "model_pca10.fit(X)\n",
    "X_reduced10 = model_pca3.transform(X)\n",
    "\n",
    "# Séparer training et test\n",
    "training_ratio = 0.6\n",
    "l = len(X)\n",
    "X_train = X_reduced10[:int(l*training_ratio)]\n",
    "X_test = X_reduced10[int(l*training_ratio):]\n",
    "y_train = y[:int(l*training_ratio)]\n",
    "y_test = y[int(l*training_ratio):]\n",
    "\n",
    "\n",
    "# Créer le classifier\n",
    "model_knn = KNeighborsClassifier(30)\n",
    "\n",
    "# Entrainer le classifier sur les données d'entrainement (X_train et y_train)\n",
    "model_knn.fit(X_train, y_train)\n",
    "\n",
    "# Evaluer\n",
    "y_pred = model_knn.predict(X_test)\n",
    "\n",
    "true_positive = sum(y_pred == y_test)\n",
    "n_predictions = len(y_test)\n",
    "accuracy = true_positive / n_predictions\n",
    "\n",
    "print(\"Précision : %i%%\" % (accuracy * 100))"
   ]
  },
  {
   "cell_type": "markdown",
   "metadata": {},
   "source": [
    "The precision doesn't change."
   ]
  },
  {
   "cell_type": "markdown",
   "metadata": {},
   "source": [
    "## We'll now use the features vector generated by the whole wave instead of each balloon"
   ]
  },
  {
   "cell_type": "code",
   "execution_count": 55,
   "metadata": {},
   "outputs": [],
   "source": [
    "X = np.genfromtxt('features_wave_julian_paul_sarah.csv', delimiter=',')\n",
    "y = np.genfromtxt('output_wave_julian_paul_sarah.csv', delimiter=',')"
   ]
  },
  {
   "cell_type": "code",
   "execution_count": 58,
   "metadata": {},
   "outputs": [
    {
     "name": "stdout",
     "output_type": "stream",
     "text": [
      "Précision : 55%\n"
     ]
    },
    {
     "data": {
      "image/png": "[encoded data removed]",
      "text/plain": [
       "<Figure size 432x288 with 1 Axes>"
      ]
     },
     "metadata": {
      "needs_background": "light"
     },
     "output_type": "display_data"
    }
   ],
   "source": [
    "#applying K-means    \n",
    "# Mélanger le dataset (penser à mélanger les features et les labels de la même façon...)\n",
    "p = np.random.permutation(len(X))\n",
    "X, y = X[p], y[p]\n",
    "\n",
    "# Réduire à 2 dimensions\n",
    "model_pca2.fit(X)\n",
    "X_reduced2 = model_pca2.transform(X)\n",
    "\n",
    "# Séparer training et test\n",
    "training_ratio = 0.6\n",
    "l = len(X)\n",
    "X_train = X_reduced2[:int(l*training_ratio)]\n",
    "X_test = X_reduced2[int(l*training_ratio):]\n",
    "y_train = y[:int(l*training_ratio)]\n",
    "y_test = y[int(l*training_ratio):]\n",
    "\n",
    "\n",
    "# Créer le classifier\n",
    "model_knn = KNeighborsClassifier(30)\n",
    "\n",
    "# Entrainer le classifier sur les données d'entrainement (X_train et y_train)\n",
    "model_knn.fit(X_train, y_train)\n",
    "\n",
    "# Evaluer\n",
    "y_pred = model_knn.predict(X_test)\n",
    "\n",
    "true_positive = sum(y_pred == y_test)\n",
    "n_predictions = len(y_test)\n",
    "accuracy = true_positive / n_predictions\n",
    "\n",
    "print(\"Précision : %i%%\" % (accuracy * 100))\n",
    "\n",
    "# Afficher les résultats\n",
    "visualiser_modele(model_knn)"
   ]
  },
  {
   "cell_type": "markdown",
   "metadata": {},
   "source": [
    "We notice that the precision increased from 48% to 55% by computing the features on a whole wave instead of computing for each balloon"
   ]
  },
  {
   "cell_type": "markdown",
   "metadata": {},
   "source": [
    "Now let's try with the dataset of only Julian and Sarah"
   ]
  },
  {
   "cell_type": "code",
   "execution_count": 59,
   "metadata": {},
   "outputs": [],
   "source": [
    "X = np.genfromtxt('features_wave_julian_sarah.csv', delimiter=',')\n",
    "y = np.genfromtxt('output_wave_julian_sarah.csv', delimiter=',')"
   ]
  },
  {
   "cell_type": "code",
   "execution_count": 60,
   "metadata": {},
   "outputs": [
    {
     "name": "stdout",
     "output_type": "stream",
     "text": [
      "Précision : 80%\n"
     ]
    },
    {
     "data": {
      "image/png": "[encoded data removed]",
      "text/plain": [
       "<Figure size 432x288 with 1 Axes>"
      ]
     },
     "metadata": {
      "needs_background": "light"
     },
     "output_type": "display_data"
    }
   ],
   "source": [
    "# Mélanger le dataset (penser à mélanger les features et les labels de la même façon...)\n",
    "p = np.random.permutation(len(X))\n",
    "X, y = X[p], y[p]\n",
    "\n",
    "model_pca2 = PCA(n_components = 2)\n",
    "model_pca2.fit(X)\n",
    "X_reduced2 = model_pca2.transform(X)\n",
    "\n",
    "\n",
    "# Séparer training et test\n",
    "training_ratio = 0.6\n",
    "l = len(X)\n",
    "X_train = X_reduced2[:int(l*training_ratio)]\n",
    "X_test = X_reduced2[int(l*training_ratio):]\n",
    "y_train = y[:int(l*training_ratio)]\n",
    "y_test = y[int(l*training_ratio):]\n",
    "\n",
    "\n",
    "# Créer le classifier\n",
    "model_knn = KNeighborsClassifier(30)\n",
    "\n",
    "# Entrainer le classifier sur les données d'entrainement (X_train et y_train)\n",
    "model_knn.fit(X_train, y_train)\n",
    "\n",
    "# Evaluer\n",
    "y_pred = model_knn.predict(X_test)\n",
    "\n",
    "true_positive = sum(y_pred == y_test)\n",
    "n_predictions = len(y_test)\n",
    "accuracy = true_positive / n_predictions\n",
    "\n",
    "print(\"Précision : %i%%\" % (accuracy * 100))\n",
    "\n",
    "# Afficher les résultats\n",
    "visualiser_modele(model_knn)"
   ]
  },
  {
   "cell_type": "markdown",
   "metadata": {},
   "source": [
    "We notice that it also improves!!! From 72% to 80%. Let's try now with a 10 dimension PCA"
   ]
  },
  {
   "cell_type": "code",
   "execution_count": 61,
   "metadata": {},
   "outputs": [
    {
     "name": "stdout",
     "output_type": "stream",
     "text": [
      "Précision : 82%\n"
     ]
    }
   ],
   "source": [
    "model_pca10 = PCA(n_components=10)\n",
    "model_pca10.fit(X)\n",
    "X_reduced10 = model_pca3.transform(X)\n",
    "\n",
    "# Séparer training et test\n",
    "training_ratio = 0.6\n",
    "l = len(X)\n",
    "X_train = X_reduced10[:int(l*training_ratio)]\n",
    "X_test = X_reduced10[int(l*training_ratio):]\n",
    "y_train = y[:int(l*training_ratio)]\n",
    "y_test = y[int(l*training_ratio):]\n",
    "\n",
    "\n",
    "# Créer le classifier\n",
    "model_knn = KNeighborsClassifier(30)\n",
    "\n",
    "# Entrainer le classifier sur les données d'entrainement (X_train et y_train)\n",
    "model_knn.fit(X_train, y_train)\n",
    "\n",
    "# Evaluer\n",
    "y_pred = model_knn.predict(X_test)\n",
    "\n",
    "true_positive = sum(y_pred == y_test)\n",
    "n_predictions = len(y_test)\n",
    "accuracy = true_positive / n_predictions\n",
    "\n",
    "print(\"Précision : %i%%\" % (accuracy * 100))"
   ]
  },
  {
   "cell_type": "markdown",
   "metadata": {},
   "source": [
    " Let's now use concatenate feature vectors instead of the last two ways (features for each balloon and features by each wave)"
   ]
  },
  {
   "cell_type": "code",
   "execution_count": null,
   "metadata": {},
   "outputs": [],
   "source": []
  }
 ],
 "metadata": {
  "kernelspec": {
   "display_name": "Python 3",
   "language": "python",
   "name": "python3"
  },
  "language_info": {
   "codemirror_mode": {
    "name": "ipython",
    "version": 3
   },
   "file_extension": ".py",
   "mimetype": "text/x-python",
   "name": "python",
   "nbconvert_exporter": "python",
   "pygments_lexer": "ipython3",
   "version": "3.7.1"
  }
 },
 "nbformat": 4,
 "nbformat_minor": 2
}
